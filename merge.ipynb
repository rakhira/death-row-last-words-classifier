{
 "cells": [
  {
   "cell_type": "code",
   "execution_count": 1,
   "metadata": {},
   "outputs": [],
   "source": [
    "# imports\n",
    "import pandas as pd"
   ]
  },
  {
   "cell_type": "code",
   "execution_count": 3,
   "metadata": {},
   "outputs": [],
   "source": [
    "# create all dataframes\n",
    "\n",
    "csv_names = ['CPI_3.8_Abuse_Neglect_Investigations_-_Victims_with_Demographics_by_Region_FY2010-FY2019', \n",
    "            'CPS_2.1_Removals_-_by_Region_with_Child_Demographics_FY2010-2019', \n",
    "            'CPS_3.1_Placement_Types_of_Children_in_Substitute_Care_During_the_Fiscal_Year_by_County_with_Demographics_FY2010-2019', \n",
    "            'CPS_3.2_in_Substitute_Care_on_August_31_by_Placement_Type_with_Demographics_FY2010-2019', \n",
    "            'CPS_4.1_Adoption_-_Children_Waiting_For_Adoption_on_31_August_by_Region_with_Demographics_FY2010-2019', \n",
    "            'CPS_4.3_Adoption_-_Children_In_Adoption_Placements_by_Region_with_Demographics_FY2010-2019', \n",
    "            'CPS_4.4_Adoption_-_Disabling_Conditions_of_Children_in_Adoption_Placements_by_Region_with_Demographics_FY2010-2019', \n",
    "            'CPS_4.5_Adoptions_Consummated_by_Region_with_Demographics_FY2010-2019']\n",
    "\n",
    "dfs = {}\n",
    "for i, csv in enumerate(csv_names):\n",
    "    dfs[i] = pd.read_csv(f'data/{csv}.csv')"
   ]
  },
  {
   "cell_type": "code",
   "execution_count": 4,
   "metadata": {},
   "outputs": [],
   "source": [
    "# COME UP WITH A BETTER WAY TO DO THIS\n",
    "\n",
    "df0 = dfs[0]\n",
    "df1 = dfs[1]\n",
    "df2 = dfs[2]\n",
    "df3 = dfs[3]\n",
    "df4 = dfs[4]\n",
    "df5 = dfs[5]\n",
    "df6 = dfs[6]\n",
    "df7 = dfs[7]"
   ]
  },
  {
   "cell_type": "code",
   "execution_count": 5,
   "metadata": {},
   "outputs": [],
   "source": [
    "final_df = df2.copy()"
   ]
  },
  {
   "cell_type": "code",
   "execution_count": 6,
   "metadata": {},
   "outputs": [
    {
     "name": "stdout",
     "output_type": "stream",
     "text": [
      "<class 'pandas.core.frame.DataFrame'>\n",
      "RangeIndex: 186682 entries, 0 to 186681\n",
      "Data columns (total 9 columns):\n",
      " #   Column                                                    Non-Null Count   Dtype \n",
      "---  ------                                                    --------------   ----- \n",
      " 0   Fiscal Year                                               186682 non-null  int64 \n",
      " 1   County                                                    186682 non-null  object\n",
      " 2   Region                                                    186682 non-null  object\n",
      " 3   Gender                                                    186682 non-null  object\n",
      " 4   Race/Ethnicity                                            186682 non-null  object\n",
      " 5   Age                                                       186682 non-null  int64 \n",
      " 6   Type of Substitute Care                                   186682 non-null  object\n",
      " 7   Placed with Relative                                      186682 non-null  object\n",
      " 8   Count of Placement Types for Children in Substitute Care  186682 non-null  int64 \n",
      "dtypes: int64(3), object(6)\n",
      "memory usage: 12.8+ MB\n"
     ]
    }
   ],
   "source": [
    "final_df.info()"
   ]
  },
  {
   "cell_type": "code",
   "execution_count": 7,
   "metadata": {},
   "outputs": [],
   "source": [
    "final_df.drop(['County'], axis=1, inplace=True)"
   ]
  },
  {
   "cell_type": "code",
   "execution_count": 8,
   "metadata": {},
   "outputs": [],
   "source": [
    "# bucketize the 'Age' column into 'Age Group'\n",
    "\n",
    "bins = [0, 5, 12, 17]\n",
    "labels = ['Birth to Five Years Old', 'Six to Twelve Years Old', 'Thirteen to Seventeen Years Old']\n",
    "final_df['Age Group'] = pd.cut(final_df['Age'], bins, labels=labels)\n",
    "final_df.drop(['Age'], axis=1, inplace=True)"
   ]
  },
  {
   "cell_type": "code",
   "execution_count": null,
   "metadata": {},
   "outputs": [],
   "source": [
    "final_df1 = pd.pivot_table(final_df, values='Placed with Relative', index = ['Fiscal Year', 'Region', 'Gender', 'Race/Ethnicity', 'Age Group'], columns=['Type of Substitute Care'], aggfunc='count')"
   ]
  },
  {
   "cell_type": "code",
   "execution_count": null,
   "metadata": {},
   "outputs": [],
   "source": [
    "final_df1"
   ]
  },
  {
   "cell_type": "code",
   "execution_count": 10,
   "metadata": {},
   "outputs": [],
   "source": [
    "final_df2 = pd.pivot_table(final_df, values='Type of Substitute Care', index = ['Fiscal Year', 'Region', 'Gender', 'Race/Ethnicity', 'Age Group'], columns=['Placed with Relative'], aggfunc='count')"
   ]
  },
  {
   "cell_type": "code",
   "execution_count": null,
   "metadata": {},
   "outputs": [],
   "source": []
  }
 ],
 "metadata": {
  "kernelspec": {
   "display_name": "Python 3",
   "language": "python",
   "name": "python3"
  },
  "language_info": {
   "codemirror_mode": {
    "name": "ipython",
    "version": 3
   },
   "file_extension": ".py",
   "mimetype": "text/x-python",
   "name": "python",
   "nbconvert_exporter": "python",
   "pygments_lexer": "ipython3",
   "version": "3.7.7"
  }
 },
 "nbformat": 4,
 "nbformat_minor": 4
}
