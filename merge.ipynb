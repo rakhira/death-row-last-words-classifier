{
  "nbformat": 4,
  "nbformat_minor": 0,
  "metadata": {
    "colab": {
      "name": "merge.ipynb",
      "provenance": [],
      "authorship_tag": "ABX9TyMrR5qbTsi165RufSNMG3c4",
      "include_colab_link": true
    },
    "kernelspec": {
      "name": "python3",
      "display_name": "Python 3"
    }
  },
  "cells": [
    {
      "cell_type": "markdown",
      "metadata": {
        "id": "view-in-github",
        "colab_type": "text"
      },
      "source": [
        "<a href=\"https://colab.research.google.com/github/rakhira/texas-foster-care-adoption-classifier/blob/master/merge.ipynb\" target=\"_parent\"><img src=\"https://colab.research.google.com/assets/colab-badge.svg\" alt=\"Open In Colab\"/></a>"
      ]
    },
    {
      "cell_type": "code",
      "metadata": {
        "id": "a8HYX0CFhEXI",
        "colab_type": "code",
        "colab": {}
      },
      "source": [
        "# imports\n",
        "import pandas as pd"
      ],
      "execution_count": 176,
      "outputs": []
    },
    {
      "cell_type": "code",
      "metadata": {
        "id": "UkipBA6ChTQ2",
        "colab_type": "code",
        "colab": {}
      },
      "source": [
        "# create all dataframes\n",
        "\n",
        "csv_names = ['CPI_3.8_Abuse_Neglect_Investigations_-_Victims_with_Demographics_by_Region_FY2010-FY2019', \n",
        "            'CPS_2.1_Removals_-_by_Region_with_Child_Demographics_FY2010-2019', \n",
        "            'CPS_3.1_Placement_Types_of_Children_in_Substitute_Care_During_the_Fiscal_Year_by_County_with_Demographics_FY2010-2019', \n",
        "            'CPS_3.2_in_Substitute_Care_on_August_31_by_Placement_Type_with_Demographics_FY2010-2019', \n",
        "            'CPS_4.1_Adoption_-_Children_Waiting_For_Adoption_on_31_August_by_Region_with_Demographics_FY2010-2019', \n",
        "            'CPS_4.3_Adoption_-_Children_In_Adoption_Placements_by_Region_with_Demographics_FY2010-2019', \n",
        "            'CPS_4.4_Adoption_-_Disabling_Conditions_of_Children_in_Adoption_Placements_by_Region_with_Demographics_FY2010-2019', \n",
        "            'CPS_4.5_Adoptions_Consummated_by_Region_with_Demographics_FY2010-2019']\n",
        "\n",
        "dfs = {}\n",
        "for i, csv in enumerate(csv_names):\n",
        "  dfs[i] = pd.read_csv(f'{csv}.csv')"
      ],
      "execution_count": 177,
      "outputs": []
    },
    {
      "cell_type": "code",
      "metadata": {
        "id": "dyRlPqnehb1T",
        "colab_type": "code",
        "colab": {}
      },
      "source": [
        "# COME UP WITH A BETTER WAY TO DO THIS\n",
        "\n",
        "df0 = dfs[0] #done\n",
        "df1 = dfs[1] #done\n",
        "df2 = dfs[2] #done\n",
        "df3 = dfs[3]\n",
        "df4 = dfs[4]\n",
        "df5 = dfs[5]\n",
        "df6 = dfs[6]\n",
        "df7 = dfs[7]"
      ],
      "execution_count": 178,
      "outputs": []
    },
    {
      "cell_type": "code",
      "metadata": {
        "id": "dfhgTJ4hhz3l",
        "colab_type": "code",
        "colab": {}
      },
      "source": [
        "final_df = df2.copy()"
      ],
      "execution_count": 179,
      "outputs": []
    },
    {
      "cell_type": "code",
      "metadata": {
        "id": "7V74NltPh1R4",
        "colab_type": "code",
        "colab": {
          "base_uri": "https://localhost:8080/",
          "height": 289
        },
        "outputId": "aa77ff93-ef4c-4666-ba68-484f3497144d"
      },
      "source": [
        "final_df.info()"
      ],
      "execution_count": 180,
      "outputs": [
        {
          "output_type": "stream",
          "text": [
            "<class 'pandas.core.frame.DataFrame'>\n",
            "RangeIndex: 186682 entries, 0 to 186681\n",
            "Data columns (total 9 columns):\n",
            " #   Column                                                    Non-Null Count   Dtype \n",
            "---  ------                                                    --------------   ----- \n",
            " 0   Fiscal Year                                               186682 non-null  int64 \n",
            " 1   County                                                    186682 non-null  object\n",
            " 2   Region                                                    186682 non-null  object\n",
            " 3   Gender                                                    186682 non-null  object\n",
            " 4   Race/Ethnicity                                            186682 non-null  object\n",
            " 5   Age                                                       186682 non-null  int64 \n",
            " 6   Type of Substitute Care                                   186682 non-null  object\n",
            " 7   Placed with Relative                                      186682 non-null  object\n",
            " 8   Count of Placement Types for Children in Substitute Care  186682 non-null  int64 \n",
            "dtypes: int64(3), object(6)\n",
            "memory usage: 12.8+ MB\n"
          ],
          "name": "stdout"
        }
      ]
    },
    {
      "cell_type": "code",
      "metadata": {
        "id": "SGNsR3Fyh2QG",
        "colab_type": "code",
        "colab": {}
      },
      "source": [
        "final_df.drop(['County'], axis=1, inplace=True)"
      ],
      "execution_count": 181,
      "outputs": []
    },
    {
      "cell_type": "code",
      "metadata": {
        "id": "144bssSCh3ur",
        "colab_type": "code",
        "colab": {}
      },
      "source": [
        "# bucketize the 'Age' column into 'Age Group'\n",
        "\n",
        "bins = [0, 5, 12, 17]\n",
        "labels = ['Birth to Five Years Old', 'Six to Twelve Years Old', 'Thirteen to Seventeen Years Old']\n",
        "final_df['Age Group'] = pd.cut(final_df['Age'], bins, labels=labels)\n",
        "final_df.drop(['Age'], axis=1, inplace=True)"
      ],
      "execution_count": 182,
      "outputs": []
    },
    {
      "cell_type": "code",
      "metadata": {
        "id": "-hwrQNSJh4qc",
        "colab_type": "code",
        "colab": {}
      },
      "source": [
        "final_df1 = pd.pivot_table(final_df, values='Placed with Relative', index = ['Fiscal Year', 'Region', 'Gender', 'Race/Ethnicity', 'Age Group'], columns=['Type of Substitute Care'], aggfunc='count')"
      ],
      "execution_count": 183,
      "outputs": []
    },
    {
      "cell_type": "code",
      "metadata": {
        "id": "KbA4owHVh6Jk",
        "colab_type": "code",
        "colab": {
          "base_uri": "https://localhost:8080/",
          "height": 450
        },
        "outputId": "bc9e2a8c-3032-4c13-f86c-203339787f09"
      },
      "source": [
        "final_df1"
      ],
      "execution_count": 184,
      "outputs": [
        {
          "output_type": "execute_result",
          "data": {
            "text/html": [
              "<div>\n",
              "<style scoped>\n",
              "    .dataframe tbody tr th:only-of-type {\n",
              "        vertical-align: middle;\n",
              "    }\n",
              "\n",
              "    .dataframe tbody tr th {\n",
              "        vertical-align: top;\n",
              "    }\n",
              "\n",
              "    .dataframe thead th {\n",
              "        text-align: right;\n",
              "    }\n",
              "</style>\n",
              "<table border=\"1\" class=\"dataframe\">\n",
              "  <thead>\n",
              "    <tr style=\"text-align: right;\">\n",
              "      <th></th>\n",
              "      <th></th>\n",
              "      <th></th>\n",
              "      <th></th>\n",
              "      <th>Type of Substitute Care</th>\n",
              "      <th>Foster Care</th>\n",
              "      <th>Other Substitute Care</th>\n",
              "    </tr>\n",
              "    <tr>\n",
              "      <th>Fiscal Year</th>\n",
              "      <th>Region</th>\n",
              "      <th>Gender</th>\n",
              "      <th>Race/Ethnicity</th>\n",
              "      <th>Age Group</th>\n",
              "      <th></th>\n",
              "      <th></th>\n",
              "    </tr>\n",
              "  </thead>\n",
              "  <tbody>\n",
              "    <tr>\n",
              "      <th rowspan=\"5\" valign=\"top\">2010</th>\n",
              "      <th rowspan=\"5\" valign=\"top\">1-Lubbock</th>\n",
              "      <th rowspan=\"5\" valign=\"top\">Female</th>\n",
              "      <th rowspan=\"3\" valign=\"top\">African American</th>\n",
              "      <th>Birth to Five Years Old</th>\n",
              "      <td>26.0</td>\n",
              "      <td>15.0</td>\n",
              "    </tr>\n",
              "    <tr>\n",
              "      <th>Six to Twelve Years Old</th>\n",
              "      <td>24.0</td>\n",
              "      <td>12.0</td>\n",
              "    </tr>\n",
              "    <tr>\n",
              "      <th>Thirteen to Seventeen Years Old</th>\n",
              "      <td>22.0</td>\n",
              "      <td>2.0</td>\n",
              "    </tr>\n",
              "    <tr>\n",
              "      <th rowspan=\"2\" valign=\"top\">Anglo</th>\n",
              "      <th>Birth to Five Years Old</th>\n",
              "      <td>42.0</td>\n",
              "      <td>33.0</td>\n",
              "    </tr>\n",
              "    <tr>\n",
              "      <th>Six to Twelve Years Old</th>\n",
              "      <td>48.0</td>\n",
              "      <td>29.0</td>\n",
              "    </tr>\n",
              "    <tr>\n",
              "      <th>...</th>\n",
              "      <th>...</th>\n",
              "      <th>...</th>\n",
              "      <th>...</th>\n",
              "      <th>...</th>\n",
              "      <td>...</td>\n",
              "      <td>...</td>\n",
              "    </tr>\n",
              "    <tr>\n",
              "      <th rowspan=\"5\" valign=\"top\">2019</th>\n",
              "      <th rowspan=\"4\" valign=\"top\">9-Midland</th>\n",
              "      <th rowspan=\"3\" valign=\"top\">Male</th>\n",
              "      <th rowspan=\"3\" valign=\"top\">Other</th>\n",
              "      <th>Birth to Five Years Old</th>\n",
              "      <td>8.0</td>\n",
              "      <td>7.0</td>\n",
              "    </tr>\n",
              "    <tr>\n",
              "      <th>Six to Twelve Years Old</th>\n",
              "      <td>14.0</td>\n",
              "      <td>1.0</td>\n",
              "    </tr>\n",
              "    <tr>\n",
              "      <th>Thirteen to Seventeen Years Old</th>\n",
              "      <td>1.0</td>\n",
              "      <td>1.0</td>\n",
              "    </tr>\n",
              "    <tr>\n",
              "      <th>Unknown</th>\n",
              "      <th>Hispanic</th>\n",
              "      <th>Birth to Five Years Old</th>\n",
              "      <td>NaN</td>\n",
              "      <td>1.0</td>\n",
              "    </tr>\n",
              "    <tr>\n",
              "      <th>Out of State</th>\n",
              "      <th>Male</th>\n",
              "      <th>African American</th>\n",
              "      <th>Birth to Five Years Old</th>\n",
              "      <td>1.0</td>\n",
              "      <td>NaN</td>\n",
              "    </tr>\n",
              "  </tbody>\n",
              "</table>\n",
              "<p>3335 rows × 2 columns</p>\n",
              "</div>"
            ],
            "text/plain": [
              "Type of Substitute Care                                                            Foster Care  Other Substitute Care\n",
              "Fiscal Year Region       Gender  Race/Ethnicity   Age Group                                                          \n",
              "2010        1-Lubbock    Female  African American Birth to Five Years Old                 26.0                   15.0\n",
              "                                                  Six to Twelve Years Old                 24.0                   12.0\n",
              "                                                  Thirteen to Seventeen Years Old         22.0                    2.0\n",
              "                                 Anglo            Birth to Five Years Old                 42.0                   33.0\n",
              "                                                  Six to Twelve Years Old                 48.0                   29.0\n",
              "...                                                                                        ...                    ...\n",
              "2019        9-Midland    Male    Other            Birth to Five Years Old                  8.0                    7.0\n",
              "                                                  Six to Twelve Years Old                 14.0                    1.0\n",
              "                                                  Thirteen to Seventeen Years Old          1.0                    1.0\n",
              "                         Unknown Hispanic         Birth to Five Years Old                  NaN                    1.0\n",
              "            Out of State Male    African American Birth to Five Years Old                  1.0                    NaN\n",
              "\n",
              "[3335 rows x 2 columns]"
            ]
          },
          "metadata": {
            "tags": []
          },
          "execution_count": 184
        }
      ]
    },
    {
      "cell_type": "code",
      "metadata": {
        "id": "UgnZXz-2h7Mf",
        "colab_type": "code",
        "colab": {}
      },
      "source": [
        "final_df2 = pd.pivot_table(final_df, values='Type of Substitute Care', index = ['Fiscal Year', 'Region', 'Gender', 'Race/Ethnicity', 'Age Group'], columns=['Placed with Relative'], aggfunc='count')"
      ],
      "execution_count": 185,
      "outputs": []
    },
    {
      "cell_type": "code",
      "metadata": {
        "id": "N0zB4OjTh8P3",
        "colab_type": "code",
        "colab": {
          "base_uri": "https://localhost:8080/",
          "height": 235
        },
        "outputId": "6f64906a-50f6-48f8-8ff8-19f9af1adb0b"
      },
      "source": [
        "final_df2.head()"
      ],
      "execution_count": 186,
      "outputs": [
        {
          "output_type": "execute_result",
          "data": {
            "text/html": [
              "<div>\n",
              "<style scoped>\n",
              "    .dataframe tbody tr th:only-of-type {\n",
              "        vertical-align: middle;\n",
              "    }\n",
              "\n",
              "    .dataframe tbody tr th {\n",
              "        vertical-align: top;\n",
              "    }\n",
              "\n",
              "    .dataframe thead th {\n",
              "        text-align: right;\n",
              "    }\n",
              "</style>\n",
              "<table border=\"1\" class=\"dataframe\">\n",
              "  <thead>\n",
              "    <tr style=\"text-align: right;\">\n",
              "      <th></th>\n",
              "      <th></th>\n",
              "      <th></th>\n",
              "      <th></th>\n",
              "      <th>Placed with Relative</th>\n",
              "      <th>Non-Relative</th>\n",
              "      <th>Relative</th>\n",
              "    </tr>\n",
              "    <tr>\n",
              "      <th>Fiscal Year</th>\n",
              "      <th>Region</th>\n",
              "      <th>Gender</th>\n",
              "      <th>Race/Ethnicity</th>\n",
              "      <th>Age Group</th>\n",
              "      <th></th>\n",
              "      <th></th>\n",
              "    </tr>\n",
              "  </thead>\n",
              "  <tbody>\n",
              "    <tr>\n",
              "      <th rowspan=\"5\" valign=\"top\">2010</th>\n",
              "      <th rowspan=\"5\" valign=\"top\">1-Lubbock</th>\n",
              "      <th rowspan=\"5\" valign=\"top\">Female</th>\n",
              "      <th rowspan=\"3\" valign=\"top\">African American</th>\n",
              "      <th>Birth to Five Years Old</th>\n",
              "      <td>22.0</td>\n",
              "      <td>19.0</td>\n",
              "    </tr>\n",
              "    <tr>\n",
              "      <th>Six to Twelve Years Old</th>\n",
              "      <td>27.0</td>\n",
              "      <td>9.0</td>\n",
              "    </tr>\n",
              "    <tr>\n",
              "      <th>Thirteen to Seventeen Years Old</th>\n",
              "      <td>21.0</td>\n",
              "      <td>3.0</td>\n",
              "    </tr>\n",
              "    <tr>\n",
              "      <th rowspan=\"2\" valign=\"top\">Anglo</th>\n",
              "      <th>Birth to Five Years Old</th>\n",
              "      <td>38.0</td>\n",
              "      <td>37.0</td>\n",
              "    </tr>\n",
              "    <tr>\n",
              "      <th>Six to Twelve Years Old</th>\n",
              "      <td>37.0</td>\n",
              "      <td>40.0</td>\n",
              "    </tr>\n",
              "  </tbody>\n",
              "</table>\n",
              "</div>"
            ],
            "text/plain": [
              "Placed with Relative                                                           Non-Relative  Relative\n",
              "Fiscal Year Region    Gender Race/Ethnicity   Age Group                                              \n",
              "2010        1-Lubbock Female African American Birth to Five Years Old                  22.0      19.0\n",
              "                                              Six to Twelve Years Old                  27.0       9.0\n",
              "                                              Thirteen to Seventeen Years Old          21.0       3.0\n",
              "                             Anglo            Birth to Five Years Old                  38.0      37.0\n",
              "                                              Six to Twelve Years Old                  37.0      40.0"
            ]
          },
          "metadata": {
            "tags": []
          },
          "execution_count": 186
        }
      ]
    },
    {
      "cell_type": "code",
      "metadata": {
        "id": "60LjLNDoh9qk",
        "colab_type": "code",
        "colab": {}
      },
      "source": [
        "final_df3 = final_df1.merge(final_df2, on=['Fiscal Year','Region','Gender','Race/Ethnicity','Age Group'])"
      ],
      "execution_count": 187,
      "outputs": []
    },
    {
      "cell_type": "code",
      "metadata": {
        "id": "rAWS2hf_mfXP",
        "colab_type": "code",
        "colab": {
          "base_uri": "https://localhost:8080/",
          "height": 286
        },
        "outputId": "193910d0-1866-459e-d73e-ddcab8bec6b1"
      },
      "source": [
        "final_df3.head()"
      ],
      "execution_count": 188,
      "outputs": [
        {
          "output_type": "execute_result",
          "data": {
            "text/html": [
              "<div>\n",
              "<style scoped>\n",
              "    .dataframe tbody tr th:only-of-type {\n",
              "        vertical-align: middle;\n",
              "    }\n",
              "\n",
              "    .dataframe tbody tr th {\n",
              "        vertical-align: top;\n",
              "    }\n",
              "\n",
              "    .dataframe thead th {\n",
              "        text-align: right;\n",
              "    }\n",
              "</style>\n",
              "<table border=\"1\" class=\"dataframe\">\n",
              "  <thead>\n",
              "    <tr style=\"text-align: right;\">\n",
              "      <th></th>\n",
              "      <th></th>\n",
              "      <th></th>\n",
              "      <th></th>\n",
              "      <th></th>\n",
              "      <th>Foster Care</th>\n",
              "      <th>Other Substitute Care</th>\n",
              "      <th>Non-Relative</th>\n",
              "      <th>Relative</th>\n",
              "    </tr>\n",
              "    <tr>\n",
              "      <th>Fiscal Year</th>\n",
              "      <th>Region</th>\n",
              "      <th>Gender</th>\n",
              "      <th>Race/Ethnicity</th>\n",
              "      <th>Age Group</th>\n",
              "      <th></th>\n",
              "      <th></th>\n",
              "      <th></th>\n",
              "      <th></th>\n",
              "    </tr>\n",
              "  </thead>\n",
              "  <tbody>\n",
              "    <tr>\n",
              "      <th rowspan=\"5\" valign=\"top\">2010</th>\n",
              "      <th rowspan=\"5\" valign=\"top\">1-Lubbock</th>\n",
              "      <th rowspan=\"5\" valign=\"top\">Female</th>\n",
              "      <th rowspan=\"3\" valign=\"top\">African American</th>\n",
              "      <th>Birth to Five Years Old</th>\n",
              "      <td>26.0</td>\n",
              "      <td>15.0</td>\n",
              "      <td>22.0</td>\n",
              "      <td>19.0</td>\n",
              "    </tr>\n",
              "    <tr>\n",
              "      <th>Six to Twelve Years Old</th>\n",
              "      <td>24.0</td>\n",
              "      <td>12.0</td>\n",
              "      <td>27.0</td>\n",
              "      <td>9.0</td>\n",
              "    </tr>\n",
              "    <tr>\n",
              "      <th>Thirteen to Seventeen Years Old</th>\n",
              "      <td>22.0</td>\n",
              "      <td>2.0</td>\n",
              "      <td>21.0</td>\n",
              "      <td>3.0</td>\n",
              "    </tr>\n",
              "    <tr>\n",
              "      <th rowspan=\"2\" valign=\"top\">Anglo</th>\n",
              "      <th>Birth to Five Years Old</th>\n",
              "      <td>42.0</td>\n",
              "      <td>33.0</td>\n",
              "      <td>38.0</td>\n",
              "      <td>37.0</td>\n",
              "    </tr>\n",
              "    <tr>\n",
              "      <th>Six to Twelve Years Old</th>\n",
              "      <td>48.0</td>\n",
              "      <td>29.0</td>\n",
              "      <td>37.0</td>\n",
              "      <td>40.0</td>\n",
              "    </tr>\n",
              "  </tbody>\n",
              "</table>\n",
              "</div>"
            ],
            "text/plain": [
              "                                                                               Foster Care  ...  Relative\n",
              "Fiscal Year Region    Gender Race/Ethnicity   Age Group                                     ...          \n",
              "2010        1-Lubbock Female African American Birth to Five Years Old                 26.0  ...      19.0\n",
              "                                              Six to Twelve Years Old                 24.0  ...       9.0\n",
              "                                              Thirteen to Seventeen Years Old         22.0  ...       3.0\n",
              "                             Anglo            Birth to Five Years Old                 42.0  ...      37.0\n",
              "                                              Six to Twelve Years Old                 48.0  ...      40.0\n",
              "\n",
              "[5 rows x 4 columns]"
            ]
          },
          "metadata": {
            "tags": []
          },
          "execution_count": 188
        }
      ]
    },
    {
      "cell_type": "code",
      "metadata": {
        "id": "8ygjzUOFmotZ",
        "colab_type": "code",
        "colab": {
          "base_uri": "https://localhost:8080/",
          "height": 272
        },
        "outputId": "8f1ea50d-318b-4c8a-8918-f73ec5b545ba"
      },
      "source": [
        "df0.info()"
      ],
      "execution_count": 189,
      "outputs": [
        {
          "output_type": "stream",
          "text": [
            "<class 'pandas.core.frame.DataFrame'>\n",
            "RangeIndex: 45219 entries, 0 to 45218\n",
            "Data columns (total 8 columns):\n",
            " #   Column             Non-Null Count  Dtype \n",
            "---  ------             --------------  ----- \n",
            " 0   Fiscal Year        45219 non-null  int64 \n",
            " 1   Region Code        45219 non-null  int64 \n",
            " 2   Region             45219 non-null  object\n",
            " 3   Confirmed Victims  45219 non-null  object\n",
            " 4   Gender             45219 non-null  object\n",
            " 5   Race/Ethnicity     45219 non-null  object\n",
            " 6   Age                45219 non-null  object\n",
            " 7   Victims            45219 non-null  int64 \n",
            "dtypes: int64(3), object(5)\n",
            "memory usage: 2.8+ MB\n"
          ],
          "name": "stdout"
        }
      ]
    },
    {
      "cell_type": "code",
      "metadata": {
        "id": "mPJuOei2a_Z3",
        "colab_type": "code",
        "colab": {
          "base_uri": "https://localhost:8080/",
          "height": 204
        },
        "outputId": "ffdd33ad-13f6-4b13-d453-e41d10c0a6c3"
      },
      "source": [
        "df0.head()"
      ],
      "execution_count": 190,
      "outputs": [
        {
          "output_type": "execute_result",
          "data": {
            "text/html": [
              "<div>\n",
              "<style scoped>\n",
              "    .dataframe tbody tr th:only-of-type {\n",
              "        vertical-align: middle;\n",
              "    }\n",
              "\n",
              "    .dataframe tbody tr th {\n",
              "        vertical-align: top;\n",
              "    }\n",
              "\n",
              "    .dataframe thead th {\n",
              "        text-align: right;\n",
              "    }\n",
              "</style>\n",
              "<table border=\"1\" class=\"dataframe\">\n",
              "  <thead>\n",
              "    <tr style=\"text-align: right;\">\n",
              "      <th></th>\n",
              "      <th>Fiscal Year</th>\n",
              "      <th>Region Code</th>\n",
              "      <th>Region</th>\n",
              "      <th>Confirmed Victims</th>\n",
              "      <th>Gender</th>\n",
              "      <th>Race/Ethnicity</th>\n",
              "      <th>Age</th>\n",
              "      <th>Victims</th>\n",
              "    </tr>\n",
              "  </thead>\n",
              "  <tbody>\n",
              "    <tr>\n",
              "      <th>0</th>\n",
              "      <td>2019</td>\n",
              "      <td>1</td>\n",
              "      <td>1-Lubbock</td>\n",
              "      <td>Not Confirmed</td>\n",
              "      <td>Female</td>\n",
              "      <td>African American</td>\n",
              "      <td>0</td>\n",
              "      <td>43</td>\n",
              "    </tr>\n",
              "    <tr>\n",
              "      <th>1</th>\n",
              "      <td>2019</td>\n",
              "      <td>1</td>\n",
              "      <td>1-Lubbock</td>\n",
              "      <td>Not Confirmed</td>\n",
              "      <td>Female</td>\n",
              "      <td>African American</td>\n",
              "      <td>1</td>\n",
              "      <td>35</td>\n",
              "    </tr>\n",
              "    <tr>\n",
              "      <th>2</th>\n",
              "      <td>2019</td>\n",
              "      <td>1</td>\n",
              "      <td>1-Lubbock</td>\n",
              "      <td>Not Confirmed</td>\n",
              "      <td>Female</td>\n",
              "      <td>African American</td>\n",
              "      <td>10</td>\n",
              "      <td>10</td>\n",
              "    </tr>\n",
              "    <tr>\n",
              "      <th>3</th>\n",
              "      <td>2019</td>\n",
              "      <td>1</td>\n",
              "      <td>1-Lubbock</td>\n",
              "      <td>Not Confirmed</td>\n",
              "      <td>Female</td>\n",
              "      <td>African American</td>\n",
              "      <td>11</td>\n",
              "      <td>13</td>\n",
              "    </tr>\n",
              "    <tr>\n",
              "      <th>4</th>\n",
              "      <td>2019</td>\n",
              "      <td>1</td>\n",
              "      <td>1-Lubbock</td>\n",
              "      <td>Not Confirmed</td>\n",
              "      <td>Female</td>\n",
              "      <td>African American</td>\n",
              "      <td>12</td>\n",
              "      <td>12</td>\n",
              "    </tr>\n",
              "  </tbody>\n",
              "</table>\n",
              "</div>"
            ],
            "text/plain": [
              "   Fiscal Year  Region Code     Region  ...    Race/Ethnicity Age Victims\n",
              "0         2019            1  1-Lubbock  ...  African American   0      43\n",
              "1         2019            1  1-Lubbock  ...  African American   1      35\n",
              "2         2019            1  1-Lubbock  ...  African American  10      10\n",
              "3         2019            1  1-Lubbock  ...  African American  11      13\n",
              "4         2019            1  1-Lubbock  ...  African American  12      12\n",
              "\n",
              "[5 rows x 8 columns]"
            ]
          },
          "metadata": {
            "tags": []
          },
          "execution_count": 190
        }
      ]
    },
    {
      "cell_type": "code",
      "metadata": {
        "id": "b3oDus8Rcvf5",
        "colab_type": "code",
        "colab": {}
      },
      "source": [
        "df0 = df0[df0['Age'] != 'Over 18']\n",
        "df0 = df0[df0['Age'] != 'Unknown']\n",
        "df0['Age'] = df0['Age'].astype(float)"
      ],
      "execution_count": 191,
      "outputs": []
    },
    {
      "cell_type": "code",
      "metadata": {
        "id": "OBEq2Pt7cxbN",
        "colab_type": "code",
        "colab": {}
      },
      "source": [
        "df0.drop(['Region Code'], axis=1, inplace=True)"
      ],
      "execution_count": 192,
      "outputs": []
    },
    {
      "cell_type": "code",
      "metadata": {
        "id": "79posRzWczUu",
        "colab_type": "code",
        "colab": {}
      },
      "source": [
        "df0.drop(['Confirmed Victims'], axis=1, inplace=True)"
      ],
      "execution_count": 193,
      "outputs": []
    },
    {
      "cell_type": "code",
      "metadata": {
        "id": "_yXeuWnkc56e",
        "colab_type": "code",
        "colab": {}
      },
      "source": [
        "# bucketize the 'Age' column into 'Age Group'\n",
        "\n",
        "bins = [0, 5, 12, 17]\n",
        "labels = ['Birth to Five Years Old', 'Six to Twelve Years Old', 'Thirteen to Seventeen Years Old']\n",
        "df0['Age Group'] = pd.cut(df0['Age'], bins, labels=labels)\n",
        "df0.drop(['Age'], axis=1, inplace=True)"
      ],
      "execution_count": 194,
      "outputs": []
    },
    {
      "cell_type": "code",
      "metadata": {
        "id": "igBu81FmcCs2",
        "colab_type": "code",
        "colab": {}
      },
      "source": [
        "df0_2 = df0.groupby(['Fiscal Year','Region','Gender','Race/Ethnicity','Age Group']).count()['Victims']"
      ],
      "execution_count": 195,
      "outputs": []
    },
    {
      "cell_type": "code",
      "metadata": {
        "id": "sOFaO6t0eFkF",
        "colab_type": "code",
        "colab": {
          "base_uri": "https://localhost:8080/",
          "height": 238
        },
        "outputId": "17aaebc0-fb3d-47fc-8810-cae81877781a"
      },
      "source": [
        "df0_2.reset_index"
      ],
      "execution_count": 196,
      "outputs": [
        {
          "output_type": "execute_result",
          "data": {
            "text/plain": [
              "<bound method Series.reset_index of Fiscal Year  Region        Gender   Race/Ethnicity    Age Group                      \n",
              "2010         1-Lubbock     Female   African American  Birth to Five Years Old            10.0\n",
              "                                                      Six to Twelve Years Old            14.0\n",
              "                                                      Thirteen to Seventeen Years Old    10.0\n",
              "                                    Anglo             Birth to Five Years Old            10.0\n",
              "                                                      Six to Twelve Years Old            14.0\n",
              "                                                                                         ... \n",
              "2019         Out of State  Unknown  Native American   Six to Twelve Years Old             NaN\n",
              "                                                      Thirteen to Seventeen Years Old     NaN\n",
              "                                    Other             Birth to Five Years Old             NaN\n",
              "                                                      Six to Twelve Years Old             NaN\n",
              "                                                      Thirteen to Seventeen Years Old     NaN\n",
              "Name: Victims, Length: 6480, dtype: float64>"
            ]
          },
          "metadata": {
            "tags": []
          },
          "execution_count": 196
        }
      ]
    },
    {
      "cell_type": "code",
      "metadata": {
        "id": "ExunyRXGeHoT",
        "colab_type": "code",
        "colab": {
          "base_uri": "https://localhost:8080/",
          "height": 292
        },
        "outputId": "af14de44-4a99-4170-db18-8caaa221e92c"
      },
      "source": [
        "final_df3.reset_index"
      ],
      "execution_count": 197,
      "outputs": [
        {
          "output_type": "execute_result",
          "data": {
            "text/plain": [
              "<bound method DataFrame.reset_index of                                                                                    Foster Care  ...  Relative\n",
              "Fiscal Year Region       Gender  Race/Ethnicity   Age Group                                     ...          \n",
              "2010        1-Lubbock    Female  African American Birth to Five Years Old                 26.0  ...      19.0\n",
              "                                                  Six to Twelve Years Old                 24.0  ...       9.0\n",
              "                                                  Thirteen to Seventeen Years Old         22.0  ...       3.0\n",
              "                                 Anglo            Birth to Five Years Old                 42.0  ...      37.0\n",
              "                                                  Six to Twelve Years Old                 48.0  ...      40.0\n",
              "...                                                                                        ...  ...       ...\n",
              "2019        9-Midland    Male    Other            Birth to Five Years Old                  8.0  ...      10.0\n",
              "                                                  Six to Twelve Years Old                 14.0  ...       5.0\n",
              "                                                  Thirteen to Seventeen Years Old          1.0  ...       2.0\n",
              "                         Unknown Hispanic         Birth to Five Years Old                  NaN  ...       1.0\n",
              "            Out of State Male    African American Birth to Five Years Old                  1.0  ...       NaN\n",
              "\n",
              "[3335 rows x 4 columns]>"
            ]
          },
          "metadata": {
            "tags": []
          },
          "execution_count": 197
        }
      ]
    },
    {
      "cell_type": "code",
      "metadata": {
        "id": "yZHSwIHKeMox",
        "colab_type": "code",
        "colab": {}
      },
      "source": [
        "final_df4 = pd.merge(df0_2, final_df3, on = ['Fiscal Year','Region','Gender','Race/Ethnicity','Age Group'])"
      ],
      "execution_count": 198,
      "outputs": []
    },
    {
      "cell_type": "code",
      "metadata": {
        "id": "7nT9uf4bVfB0",
        "colab_type": "code",
        "colab": {
          "base_uri": "https://localhost:8080/",
          "height": 286
        },
        "outputId": "4e9c6993-e6d6-499c-e792-3990e945bf96"
      },
      "source": [
        "final_df4.head()"
      ],
      "execution_count": 199,
      "outputs": [
        {
          "output_type": "execute_result",
          "data": {
            "text/html": [
              "<div>\n",
              "<style scoped>\n",
              "    .dataframe tbody tr th:only-of-type {\n",
              "        vertical-align: middle;\n",
              "    }\n",
              "\n",
              "    .dataframe tbody tr th {\n",
              "        vertical-align: top;\n",
              "    }\n",
              "\n",
              "    .dataframe thead th {\n",
              "        text-align: right;\n",
              "    }\n",
              "</style>\n",
              "<table border=\"1\" class=\"dataframe\">\n",
              "  <thead>\n",
              "    <tr style=\"text-align: right;\">\n",
              "      <th></th>\n",
              "      <th></th>\n",
              "      <th></th>\n",
              "      <th></th>\n",
              "      <th></th>\n",
              "      <th>Victims</th>\n",
              "      <th>Foster Care</th>\n",
              "      <th>Other Substitute Care</th>\n",
              "      <th>Non-Relative</th>\n",
              "      <th>Relative</th>\n",
              "    </tr>\n",
              "    <tr>\n",
              "      <th>Fiscal Year</th>\n",
              "      <th>Region</th>\n",
              "      <th>Gender</th>\n",
              "      <th>Race/Ethnicity</th>\n",
              "      <th>Age Group</th>\n",
              "      <th></th>\n",
              "      <th></th>\n",
              "      <th></th>\n",
              "      <th></th>\n",
              "      <th></th>\n",
              "    </tr>\n",
              "  </thead>\n",
              "  <tbody>\n",
              "    <tr>\n",
              "      <th rowspan=\"5\" valign=\"top\">2010</th>\n",
              "      <th rowspan=\"5\" valign=\"top\">1-Lubbock</th>\n",
              "      <th rowspan=\"5\" valign=\"top\">Female</th>\n",
              "      <th rowspan=\"3\" valign=\"top\">African American</th>\n",
              "      <th>Birth to Five Years Old</th>\n",
              "      <td>10.0</td>\n",
              "      <td>26.0</td>\n",
              "      <td>15.0</td>\n",
              "      <td>22.0</td>\n",
              "      <td>19.0</td>\n",
              "    </tr>\n",
              "    <tr>\n",
              "      <th>Six to Twelve Years Old</th>\n",
              "      <td>14.0</td>\n",
              "      <td>24.0</td>\n",
              "      <td>12.0</td>\n",
              "      <td>27.0</td>\n",
              "      <td>9.0</td>\n",
              "    </tr>\n",
              "    <tr>\n",
              "      <th>Thirteen to Seventeen Years Old</th>\n",
              "      <td>10.0</td>\n",
              "      <td>22.0</td>\n",
              "      <td>2.0</td>\n",
              "      <td>21.0</td>\n",
              "      <td>3.0</td>\n",
              "    </tr>\n",
              "    <tr>\n",
              "      <th rowspan=\"2\" valign=\"top\">Anglo</th>\n",
              "      <th>Birth to Five Years Old</th>\n",
              "      <td>10.0</td>\n",
              "      <td>42.0</td>\n",
              "      <td>33.0</td>\n",
              "      <td>38.0</td>\n",
              "      <td>37.0</td>\n",
              "    </tr>\n",
              "    <tr>\n",
              "      <th>Six to Twelve Years Old</th>\n",
              "      <td>14.0</td>\n",
              "      <td>48.0</td>\n",
              "      <td>29.0</td>\n",
              "      <td>37.0</td>\n",
              "      <td>40.0</td>\n",
              "    </tr>\n",
              "  </tbody>\n",
              "</table>\n",
              "</div>"
            ],
            "text/plain": [
              "                                                                               Victims  ...  Relative\n",
              "Fiscal Year Region    Gender Race/Ethnicity   Age Group                                 ...          \n",
              "2010        1-Lubbock Female African American Birth to Five Years Old             10.0  ...      19.0\n",
              "                                              Six to Twelve Years Old             14.0  ...       9.0\n",
              "                                              Thirteen to Seventeen Years Old     10.0  ...       3.0\n",
              "                             Anglo            Birth to Five Years Old             10.0  ...      37.0\n",
              "                                              Six to Twelve Years Old             14.0  ...      40.0\n",
              "\n",
              "[5 rows x 5 columns]"
            ]
          },
          "metadata": {
            "tags": []
          },
          "execution_count": 199
        }
      ]
    },
    {
      "cell_type": "code",
      "metadata": {
        "id": "LYusw3k7W_3P",
        "colab_type": "code",
        "colab": {
          "base_uri": "https://localhost:8080/",
          "height": 204
        },
        "outputId": "cfeaabe2-e20e-4dd0-f064-07c2e2e75577"
      },
      "source": [
        "df1.head()"
      ],
      "execution_count": 200,
      "outputs": [
        {
          "output_type": "execute_result",
          "data": {
            "text/html": [
              "<div>\n",
              "<style scoped>\n",
              "    .dataframe tbody tr th:only-of-type {\n",
              "        vertical-align: middle;\n",
              "    }\n",
              "\n",
              "    .dataframe tbody tr th {\n",
              "        vertical-align: top;\n",
              "    }\n",
              "\n",
              "    .dataframe thead th {\n",
              "        text-align: right;\n",
              "    }\n",
              "</style>\n",
              "<table border=\"1\" class=\"dataframe\">\n",
              "  <thead>\n",
              "    <tr style=\"text-align: right;\">\n",
              "      <th></th>\n",
              "      <th>Fiscal Year</th>\n",
              "      <th>Region</th>\n",
              "      <th>Removal Stage</th>\n",
              "      <th>Gender</th>\n",
              "      <th>Race/Ethnicity</th>\n",
              "      <th>Age</th>\n",
              "      <th>Removals</th>\n",
              "    </tr>\n",
              "  </thead>\n",
              "  <tbody>\n",
              "    <tr>\n",
              "      <th>0</th>\n",
              "      <td>2019</td>\n",
              "      <td>1-Lubbock</td>\n",
              "      <td>Family Preservation</td>\n",
              "      <td>Female</td>\n",
              "      <td>African American</td>\n",
              "      <td>0</td>\n",
              "      <td>1</td>\n",
              "    </tr>\n",
              "    <tr>\n",
              "      <th>1</th>\n",
              "      <td>2019</td>\n",
              "      <td>1-Lubbock</td>\n",
              "      <td>Family Preservation</td>\n",
              "      <td>Female</td>\n",
              "      <td>African American</td>\n",
              "      <td>1</td>\n",
              "      <td>1</td>\n",
              "    </tr>\n",
              "    <tr>\n",
              "      <th>2</th>\n",
              "      <td>2019</td>\n",
              "      <td>1-Lubbock</td>\n",
              "      <td>Family Preservation</td>\n",
              "      <td>Female</td>\n",
              "      <td>African American</td>\n",
              "      <td>2</td>\n",
              "      <td>1</td>\n",
              "    </tr>\n",
              "    <tr>\n",
              "      <th>3</th>\n",
              "      <td>2019</td>\n",
              "      <td>1-Lubbock</td>\n",
              "      <td>Family Preservation</td>\n",
              "      <td>Female</td>\n",
              "      <td>African American</td>\n",
              "      <td>3</td>\n",
              "      <td>0</td>\n",
              "    </tr>\n",
              "    <tr>\n",
              "      <th>4</th>\n",
              "      <td>2019</td>\n",
              "      <td>1-Lubbock</td>\n",
              "      <td>Family Preservation</td>\n",
              "      <td>Female</td>\n",
              "      <td>African American</td>\n",
              "      <td>4</td>\n",
              "      <td>0</td>\n",
              "    </tr>\n",
              "  </tbody>\n",
              "</table>\n",
              "</div>"
            ],
            "text/plain": [
              "   Fiscal Year     Region        Removal Stage  ...    Race/Ethnicity Age  Removals\n",
              "0         2019  1-Lubbock  Family Preservation  ...  African American   0         1\n",
              "1         2019  1-Lubbock  Family Preservation  ...  African American   1         1\n",
              "2         2019  1-Lubbock  Family Preservation  ...  African American   2         1\n",
              "3         2019  1-Lubbock  Family Preservation  ...  African American   3         0\n",
              "4         2019  1-Lubbock  Family Preservation  ...  African American   4         0\n",
              "\n",
              "[5 rows x 7 columns]"
            ]
          },
          "metadata": {
            "tags": []
          },
          "execution_count": 200
        }
      ]
    },
    {
      "cell_type": "code",
      "metadata": {
        "id": "jB-XGng-jkBw",
        "colab_type": "code",
        "colab": {}
      },
      "source": [
        "# bucketize the 'Age' column into 'Age Group'\n",
        "\n",
        "bins = [0, 5, 12, 17]\n",
        "labels = ['Birth to Five Years Old', 'Six to Twelve Years Old', 'Thirteen to Seventeen Years Old']\n",
        "df1['Age Group'] = pd.cut(df1['Age'], bins, labels=labels)\n",
        "df1.drop(['Age'], axis=1, inplace=True)"
      ],
      "execution_count": 201,
      "outputs": []
    },
    {
      "cell_type": "code",
      "metadata": {
        "id": "uJiPPtP0jv9L",
        "colab_type": "code",
        "colab": {
          "base_uri": "https://localhost:8080/",
          "height": 204
        },
        "outputId": "28edf7e8-1639-4c78-9b9c-4980a33f747e"
      },
      "source": [
        "df1.head()"
      ],
      "execution_count": 202,
      "outputs": [
        {
          "output_type": "execute_result",
          "data": {
            "text/html": [
              "<div>\n",
              "<style scoped>\n",
              "    .dataframe tbody tr th:only-of-type {\n",
              "        vertical-align: middle;\n",
              "    }\n",
              "\n",
              "    .dataframe tbody tr th {\n",
              "        vertical-align: top;\n",
              "    }\n",
              "\n",
              "    .dataframe thead th {\n",
              "        text-align: right;\n",
              "    }\n",
              "</style>\n",
              "<table border=\"1\" class=\"dataframe\">\n",
              "  <thead>\n",
              "    <tr style=\"text-align: right;\">\n",
              "      <th></th>\n",
              "      <th>Fiscal Year</th>\n",
              "      <th>Region</th>\n",
              "      <th>Removal Stage</th>\n",
              "      <th>Gender</th>\n",
              "      <th>Race/Ethnicity</th>\n",
              "      <th>Removals</th>\n",
              "      <th>Age Group</th>\n",
              "    </tr>\n",
              "  </thead>\n",
              "  <tbody>\n",
              "    <tr>\n",
              "      <th>0</th>\n",
              "      <td>2019</td>\n",
              "      <td>1-Lubbock</td>\n",
              "      <td>Family Preservation</td>\n",
              "      <td>Female</td>\n",
              "      <td>African American</td>\n",
              "      <td>1</td>\n",
              "      <td>NaN</td>\n",
              "    </tr>\n",
              "    <tr>\n",
              "      <th>1</th>\n",
              "      <td>2019</td>\n",
              "      <td>1-Lubbock</td>\n",
              "      <td>Family Preservation</td>\n",
              "      <td>Female</td>\n",
              "      <td>African American</td>\n",
              "      <td>1</td>\n",
              "      <td>Birth to Five Years Old</td>\n",
              "    </tr>\n",
              "    <tr>\n",
              "      <th>2</th>\n",
              "      <td>2019</td>\n",
              "      <td>1-Lubbock</td>\n",
              "      <td>Family Preservation</td>\n",
              "      <td>Female</td>\n",
              "      <td>African American</td>\n",
              "      <td>1</td>\n",
              "      <td>Birth to Five Years Old</td>\n",
              "    </tr>\n",
              "    <tr>\n",
              "      <th>3</th>\n",
              "      <td>2019</td>\n",
              "      <td>1-Lubbock</td>\n",
              "      <td>Family Preservation</td>\n",
              "      <td>Female</td>\n",
              "      <td>African American</td>\n",
              "      <td>0</td>\n",
              "      <td>Birth to Five Years Old</td>\n",
              "    </tr>\n",
              "    <tr>\n",
              "      <th>4</th>\n",
              "      <td>2019</td>\n",
              "      <td>1-Lubbock</td>\n",
              "      <td>Family Preservation</td>\n",
              "      <td>Female</td>\n",
              "      <td>African American</td>\n",
              "      <td>0</td>\n",
              "      <td>Birth to Five Years Old</td>\n",
              "    </tr>\n",
              "  </tbody>\n",
              "</table>\n",
              "</div>"
            ],
            "text/plain": [
              "   Fiscal Year     Region  ... Removals                Age Group\n",
              "0         2019  1-Lubbock  ...        1                      NaN\n",
              "1         2019  1-Lubbock  ...        1  Birth to Five Years Old\n",
              "2         2019  1-Lubbock  ...        1  Birth to Five Years Old\n",
              "3         2019  1-Lubbock  ...        0  Birth to Five Years Old\n",
              "4         2019  1-Lubbock  ...        0  Birth to Five Years Old\n",
              "\n",
              "[5 rows x 7 columns]"
            ]
          },
          "metadata": {
            "tags": []
          },
          "execution_count": 202
        }
      ]
    },
    {
      "cell_type": "code",
      "metadata": {
        "id": "lLTUfz2vj71l",
        "colab_type": "code",
        "colab": {}
      },
      "source": [
        "df1.drop(['Removal Stage'], axis=1, inplace=True)"
      ],
      "execution_count": 203,
      "outputs": []
    },
    {
      "cell_type": "code",
      "metadata": {
        "id": "07qaIZjXjybN",
        "colab_type": "code",
        "colab": {}
      },
      "source": [
        "df1_2 = df1.groupby(['Fiscal Year','Region','Gender','Race/Ethnicity','Age Group']).count()['Removals']"
      ],
      "execution_count": 204,
      "outputs": []
    },
    {
      "cell_type": "code",
      "metadata": {
        "id": "uWZd2HkCkEt5",
        "colab_type": "code",
        "colab": {}
      },
      "source": [
        "final_df5 = pd.merge(df1_2, final_df4, on = ['Fiscal Year','Region','Gender','Race/Ethnicity','Age Group'])"
      ],
      "execution_count": 205,
      "outputs": []
    },
    {
      "cell_type": "code",
      "metadata": {
        "id": "zMdDwAAemUKu",
        "colab_type": "code",
        "colab": {
          "base_uri": "https://localhost:8080/",
          "height": 337
        },
        "outputId": "e61b8aed-5e63-4276-d03e-56c3d9fce7fd"
      },
      "source": [
        "final_df5.head()"
      ],
      "execution_count": 206,
      "outputs": [
        {
          "output_type": "execute_result",
          "data": {
            "text/html": [
              "<div>\n",
              "<style scoped>\n",
              "    .dataframe tbody tr th:only-of-type {\n",
              "        vertical-align: middle;\n",
              "    }\n",
              "\n",
              "    .dataframe tbody tr th {\n",
              "        vertical-align: top;\n",
              "    }\n",
              "\n",
              "    .dataframe thead th {\n",
              "        text-align: right;\n",
              "    }\n",
              "</style>\n",
              "<table border=\"1\" class=\"dataframe\">\n",
              "  <thead>\n",
              "    <tr style=\"text-align: right;\">\n",
              "      <th></th>\n",
              "      <th></th>\n",
              "      <th></th>\n",
              "      <th></th>\n",
              "      <th></th>\n",
              "      <th>Removals</th>\n",
              "      <th>Victims</th>\n",
              "      <th>Foster Care</th>\n",
              "      <th>Other Substitute Care</th>\n",
              "      <th>Non-Relative</th>\n",
              "      <th>Relative</th>\n",
              "    </tr>\n",
              "    <tr>\n",
              "      <th>Fiscal Year</th>\n",
              "      <th>Region</th>\n",
              "      <th>Gender</th>\n",
              "      <th>Race/Ethnicity</th>\n",
              "      <th>Age Group</th>\n",
              "      <th></th>\n",
              "      <th></th>\n",
              "      <th></th>\n",
              "      <th></th>\n",
              "      <th></th>\n",
              "      <th></th>\n",
              "    </tr>\n",
              "  </thead>\n",
              "  <tbody>\n",
              "    <tr>\n",
              "      <th rowspan=\"5\" valign=\"top\">2010</th>\n",
              "      <th rowspan=\"5\" valign=\"top\">1-Lubbock</th>\n",
              "      <th rowspan=\"5\" valign=\"top\">Female</th>\n",
              "      <th rowspan=\"3\" valign=\"top\">African American</th>\n",
              "      <th>Birth to Five Years Old</th>\n",
              "      <td>10.0</td>\n",
              "      <td>10.0</td>\n",
              "      <td>26.0</td>\n",
              "      <td>15.0</td>\n",
              "      <td>22.0</td>\n",
              "      <td>19.0</td>\n",
              "    </tr>\n",
              "    <tr>\n",
              "      <th>Six to Twelve Years Old</th>\n",
              "      <td>12.0</td>\n",
              "      <td>14.0</td>\n",
              "      <td>24.0</td>\n",
              "      <td>12.0</td>\n",
              "      <td>27.0</td>\n",
              "      <td>9.0</td>\n",
              "    </tr>\n",
              "    <tr>\n",
              "      <th>Thirteen to Seventeen Years Old</th>\n",
              "      <td>6.0</td>\n",
              "      <td>10.0</td>\n",
              "      <td>22.0</td>\n",
              "      <td>2.0</td>\n",
              "      <td>21.0</td>\n",
              "      <td>3.0</td>\n",
              "    </tr>\n",
              "    <tr>\n",
              "      <th rowspan=\"2\" valign=\"top\">Anglo</th>\n",
              "      <th>Birth to Five Years Old</th>\n",
              "      <td>10.0</td>\n",
              "      <td>10.0</td>\n",
              "      <td>42.0</td>\n",
              "      <td>33.0</td>\n",
              "      <td>38.0</td>\n",
              "      <td>37.0</td>\n",
              "    </tr>\n",
              "    <tr>\n",
              "      <th>Six to Twelve Years Old</th>\n",
              "      <td>14.0</td>\n",
              "      <td>14.0</td>\n",
              "      <td>48.0</td>\n",
              "      <td>29.0</td>\n",
              "      <td>37.0</td>\n",
              "      <td>40.0</td>\n",
              "    </tr>\n",
              "  </tbody>\n",
              "</table>\n",
              "</div>"
            ],
            "text/plain": [
              "                                                                               Removals  ...  Relative\n",
              "Fiscal Year Region    Gender Race/Ethnicity   Age Group                                  ...          \n",
              "2010        1-Lubbock Female African American Birth to Five Years Old              10.0  ...      19.0\n",
              "                                              Six to Twelve Years Old              12.0  ...       9.0\n",
              "                                              Thirteen to Seventeen Years Old       6.0  ...       3.0\n",
              "                             Anglo            Birth to Five Years Old              10.0  ...      37.0\n",
              "                                              Six to Twelve Years Old              14.0  ...      40.0\n",
              "\n",
              "[5 rows x 6 columns]"
            ]
          },
          "metadata": {
            "tags": []
          },
          "execution_count": 206
        }
      ]
    },
    {
      "cell_type": "code",
      "metadata": {
        "id": "x91QqJ-8mYSS",
        "colab_type": "code",
        "colab": {}
      },
      "source": [
        ""
      ],
      "execution_count": null,
      "outputs": []
    }
  ]
}