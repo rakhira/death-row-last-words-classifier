{
  "nbformat": 4,
  "nbformat_minor": 0,
  "metadata": {
    "colab": {
      "name": "Copy of merge.ipynb",
      "provenance": [],
      "authorship_tag": "ABX9TyOfroUgd0OYcp41V5ck0ssC",
      "include_colab_link": true
    },
    "kernelspec": {
      "name": "python3",
      "display_name": "Python 3"
    }
  },
  "cells": [
    {
      "cell_type": "markdown",
      "metadata": {
        "id": "view-in-github",
        "colab_type": "text"
      },
      "source": [
        "<a href=\"https://colab.research.google.com/github/rakhira/texas-foster-care-adoption-classifier/blob/master/Copy_of_merge.ipynb\" target=\"_parent\"><img src=\"https://colab.research.google.com/assets/colab-badge.svg\" alt=\"Open In Colab\"/></a>"
      ]
    },
    {
      "cell_type": "code",
      "metadata": {
        "id": "a8HYX0CFhEXI",
        "colab_type": "code",
        "colab": {}
      },
      "source": [
        "# imports\n",
        "import pandas as pd"
      ],
      "execution_count": 1,
      "outputs": []
    },
    {
      "cell_type": "code",
      "metadata": {
        "id": "UkipBA6ChTQ2",
        "colab_type": "code",
        "colab": {}
      },
      "source": [
        "# create all dataframes\n",
        "\n",
        "csv_names = ['CPI_3.8_Abuse_Neglect_Investigations_-_Victims_with_Demographics_by_Region_FY2010-FY2019', \n",
        "            'CPS_2.1_Removals_-_by_Region_with_Child_Demographics_FY2010-2019', \n",
        "            'CPS_3.2_in_Substitute_Care_on_August_31_by_Placement_Type_with_Demographics_FY2010-2019', \n",
        "            'CPS_4.1_Adoption_-_Children_Waiting_For_Adoption_on_31_August_by_Region_with_Demographics_FY2010-2019', \n",
        "            'CPS_4.3_Adoption_-_Children_In_Adoption_Placements_by_Region_with_Demographics_FY2010-2019', \n",
        "            'CPS_4.4_Adoption_-_Disabling_Conditions_of_Children_in_Adoption_Placements_by_Region_with_Demographics_FY2010-2019', \n",
        "            'CPS_4.5_Adoptions_Consummated_by_Region_with_Demographics_FY2010-2019']\n",
        "\n",
        "dfs = {}\n",
        "for i, csv in enumerate(csv_names):\n",
        "  dfs[i] = pd.read_csv(f'{csv}.csv')"
      ],
      "execution_count": 2,
      "outputs": []
    },
    {
      "cell_type": "code",
      "metadata": {
        "id": "dyRlPqnehb1T",
        "colab_type": "code",
        "colab": {}
      },
      "source": [
        "# COME UP WITH A BETTER WAY TO DO THIS\n",
        "\n",
        "df0 = dfs[0] #done\n",
        "df1 = dfs[1] #done\n",
        "df2 = dfs[2] #done\n",
        "df3 = dfs[3]\n",
        "df4 = dfs[4]\n",
        "df5 = dfs[5]\n",
        "df6 = dfs[6]"
      ],
      "execution_count": 3,
      "outputs": []
    },
    {
      "cell_type": "code",
      "metadata": {
        "id": "UIw9fKjt8TyX",
        "colab_type": "code",
        "colab": {
          "base_uri": "https://localhost:8080/",
          "height": 34
        },
        "outputId": "196f27bc-8d37-4ee0-9f26-6a48584341af"
      },
      "source": [
        "from google.colab import drive\n",
        "drive.mount('/content/drive')"
      ],
      "execution_count": 4,
      "outputs": [
        {
          "output_type": "stream",
          "text": [
            "Mounted at /content/drive\n"
          ],
          "name": "stdout"
        }
      ]
    },
    {
      "cell_type": "code",
      "metadata": {
        "id": "dfhgTJ4hhz3l",
        "colab_type": "code",
        "colab": {}
      },
      "source": [
        "final_df = df2.copy()"
      ],
      "execution_count": 6,
      "outputs": []
    },
    {
      "cell_type": "code",
      "metadata": {
        "id": "7V74NltPh1R4",
        "colab_type": "code",
        "colab": {
          "base_uri": "https://localhost:8080/",
          "height": 306
        },
        "outputId": "2f920a33-07fc-42b6-9614-0b53040435a2"
      },
      "source": [
        "final_df.info()"
      ],
      "execution_count": 7,
      "outputs": [
        {
          "output_type": "stream",
          "text": [
            "<class 'pandas.core.frame.DataFrame'>\n",
            "RangeIndex: 144745 entries, 0 to 144744\n",
            "Data columns (total 10 columns):\n",
            " #   Column                                   Non-Null Count   Dtype \n",
            "---  ------                                   --------------   ----- \n",
            " 0   Fiscal Year                              144745 non-null  int64 \n",
            " 1   County                                   144745 non-null  object\n",
            " 2   Region                                   144745 non-null  object\n",
            " 3   Gender                                   144745 non-null  object\n",
            " 4   Race_Ethnicity                           144745 non-null  object\n",
            " 5   Age                                      144745 non-null  int64 \n",
            " 6   Type of Substitute Care                  144745 non-null  object\n",
            " 7   Placement Type                           144745 non-null  object\n",
            " 8   Relative Placement                       144745 non-null  object\n",
            " 9   Children in Subsitute Care on 31 August  144745 non-null  int64 \n",
            "dtypes: int64(3), object(7)\n",
            "memory usage: 11.0+ MB\n"
          ],
          "name": "stdout"
        }
      ]
    },
    {
      "cell_type": "code",
      "metadata": {
        "id": "SGNsR3Fyh2QG",
        "colab_type": "code",
        "colab": {}
      },
      "source": [
        "final_df.drop(['County'], axis=1, inplace=True)"
      ],
      "execution_count": 8,
      "outputs": []
    },
    {
      "cell_type": "code",
      "metadata": {
        "id": "144bssSCh3ur",
        "colab_type": "code",
        "colab": {}
      },
      "source": [
        "# bucketize the 'Age' column into 'Age Group'\n",
        "\n",
        "bins = [0, 5, 12, 17]\n",
        "labels = ['Birth to Five Years Old', 'Six to Twelve Years Old', 'Thirteen to Seventeen Years Old']\n",
        "final_df['Age Group'] = pd.cut(final_df['Age'], bins, labels=labels)\n",
        "final_df.drop(['Age'], axis=1, inplace=True)"
      ],
      "execution_count": 9,
      "outputs": []
    },
    {
      "cell_type": "code",
      "metadata": {
        "id": "p5n2if1tpkvJ",
        "colab_type": "code",
        "colab": {}
      },
      "source": [
        "# rename the 'Race_Ethnicity' column\n",
        "\n",
        "final_df.rename(columns={'Race_Ethnicity': 'Race/Ethnicity'}, index={'ONE': 'one'}, inplace=True)"
      ],
      "execution_count": 10,
      "outputs": []
    },
    {
      "cell_type": "code",
      "metadata": {
        "id": "wIGOqe3opnX-",
        "colab_type": "code",
        "colab": {}
      },
      "source": [
        ""
      ],
      "execution_count": 10,
      "outputs": []
    },
    {
      "cell_type": "code",
      "metadata": {
        "id": "-hwrQNSJh4qc",
        "colab_type": "code",
        "colab": {}
      },
      "source": [
        "final_df1 = pd.pivot_table(final_df, values='Relative Placement', index = ['Fiscal Year', 'Region', 'Gender', 'Race/Ethnicity', 'Age Group'], columns=['Type of Substitute Care'], aggfunc='count')"
      ],
      "execution_count": 11,
      "outputs": []
    },
    {
      "cell_type": "code",
      "metadata": {
        "id": "KbA4owHVh6Jk",
        "colab_type": "code",
        "colab": {
          "base_uri": "https://localhost:8080/",
          "height": 450
        },
        "outputId": "2d79736b-3348-4473-8eab-c8c8fc0b3210"
      },
      "source": [
        "final_df1"
      ],
      "execution_count": 12,
      "outputs": [
        {
          "output_type": "execute_result",
          "data": {
            "text/html": [
              "<div>\n",
              "<style scoped>\n",
              "    .dataframe tbody tr th:only-of-type {\n",
              "        vertical-align: middle;\n",
              "    }\n",
              "\n",
              "    .dataframe tbody tr th {\n",
              "        vertical-align: top;\n",
              "    }\n",
              "\n",
              "    .dataframe thead th {\n",
              "        text-align: right;\n",
              "    }\n",
              "</style>\n",
              "<table border=\"1\" class=\"dataframe\">\n",
              "  <thead>\n",
              "    <tr style=\"text-align: right;\">\n",
              "      <th></th>\n",
              "      <th></th>\n",
              "      <th></th>\n",
              "      <th></th>\n",
              "      <th>Type of Substitute Care</th>\n",
              "      <th>Foster Care</th>\n",
              "      <th>Other Substitute Care</th>\n",
              "    </tr>\n",
              "    <tr>\n",
              "      <th>Fiscal Year</th>\n",
              "      <th>Region</th>\n",
              "      <th>Gender</th>\n",
              "      <th>Race/Ethnicity</th>\n",
              "      <th>Age Group</th>\n",
              "      <th></th>\n",
              "      <th></th>\n",
              "    </tr>\n",
              "  </thead>\n",
              "  <tbody>\n",
              "    <tr>\n",
              "      <th rowspan=\"5\" valign=\"top\">2010</th>\n",
              "      <th rowspan=\"5\" valign=\"top\">1-Lubbock</th>\n",
              "      <th rowspan=\"5\" valign=\"top\">Female</th>\n",
              "      <th rowspan=\"3\" valign=\"top\">African American</th>\n",
              "      <th>Birth to Five Years Old</th>\n",
              "      <td>24.0</td>\n",
              "      <td>15.0</td>\n",
              "    </tr>\n",
              "    <tr>\n",
              "      <th>Six to Twelve Years Old</th>\n",
              "      <td>24.0</td>\n",
              "      <td>8.0</td>\n",
              "    </tr>\n",
              "    <tr>\n",
              "      <th>Thirteen to Seventeen Years Old</th>\n",
              "      <td>32.0</td>\n",
              "      <td>3.0</td>\n",
              "    </tr>\n",
              "    <tr>\n",
              "      <th rowspan=\"2\" valign=\"top\">Anglo</th>\n",
              "      <th>Birth to Five Years Old</th>\n",
              "      <td>40.0</td>\n",
              "      <td>18.0</td>\n",
              "    </tr>\n",
              "    <tr>\n",
              "      <th>Six to Twelve Years Old</th>\n",
              "      <td>46.0</td>\n",
              "      <td>17.0</td>\n",
              "    </tr>\n",
              "    <tr>\n",
              "      <th>...</th>\n",
              "      <th>...</th>\n",
              "      <th>...</th>\n",
              "      <th>...</th>\n",
              "      <th>...</th>\n",
              "      <td>...</td>\n",
              "      <td>...</td>\n",
              "    </tr>\n",
              "    <tr>\n",
              "      <th rowspan=\"5\" valign=\"top\">2019</th>\n",
              "      <th rowspan=\"5\" valign=\"top\">9-Midland</th>\n",
              "      <th rowspan=\"5\" valign=\"top\">Male</th>\n",
              "      <th rowspan=\"2\" valign=\"top\">Native American</th>\n",
              "      <th>Birth to Five Years Old</th>\n",
              "      <td>NaN</td>\n",
              "      <td>2.0</td>\n",
              "    </tr>\n",
              "    <tr>\n",
              "      <th>Six to Twelve Years Old</th>\n",
              "      <td>1.0</td>\n",
              "      <td>NaN</td>\n",
              "    </tr>\n",
              "    <tr>\n",
              "      <th rowspan=\"3\" valign=\"top\">Other</th>\n",
              "      <th>Birth to Five Years Old</th>\n",
              "      <td>4.0</td>\n",
              "      <td>7.0</td>\n",
              "    </tr>\n",
              "    <tr>\n",
              "      <th>Six to Twelve Years Old</th>\n",
              "      <td>7.0</td>\n",
              "      <td>3.0</td>\n",
              "    </tr>\n",
              "    <tr>\n",
              "      <th>Thirteen to Seventeen Years Old</th>\n",
              "      <td>1.0</td>\n",
              "      <td>1.0</td>\n",
              "    </tr>\n",
              "  </tbody>\n",
              "</table>\n",
              "<p>3090 rows × 2 columns</p>\n",
              "</div>"
            ],
            "text/plain": [
              "Type of Substitute Care                                                        Foster Care  Other Substitute Care\n",
              "Fiscal Year Region    Gender Race/Ethnicity   Age Group                                                          \n",
              "2010        1-Lubbock Female African American Birth to Five Years Old                 24.0                   15.0\n",
              "                                              Six to Twelve Years Old                 24.0                    8.0\n",
              "                                              Thirteen to Seventeen Years Old         32.0                    3.0\n",
              "                             Anglo            Birth to Five Years Old                 40.0                   18.0\n",
              "                                              Six to Twelve Years Old                 46.0                   17.0\n",
              "...                                                                                    ...                    ...\n",
              "2019        9-Midland Male   Native American  Birth to Five Years Old                  NaN                    2.0\n",
              "                                              Six to Twelve Years Old                  1.0                    NaN\n",
              "                             Other            Birth to Five Years Old                  4.0                    7.0\n",
              "                                              Six to Twelve Years Old                  7.0                    3.0\n",
              "                                              Thirteen to Seventeen Years Old          1.0                    1.0\n",
              "\n",
              "[3090 rows x 2 columns]"
            ]
          },
          "metadata": {
            "tags": []
          },
          "execution_count": 12
        }
      ]
    },
    {
      "cell_type": "code",
      "metadata": {
        "id": "UgnZXz-2h7Mf",
        "colab_type": "code",
        "colab": {}
      },
      "source": [
        "final_df2 = pd.pivot_table(final_df, values='Type of Substitute Care', index = ['Fiscal Year', 'Region', 'Gender', 'Race/Ethnicity', 'Age Group'], columns=['Relative Placement'], aggfunc='count')"
      ],
      "execution_count": 13,
      "outputs": []
    },
    {
      "cell_type": "code",
      "metadata": {
        "id": "N0zB4OjTh8P3",
        "colab_type": "code",
        "colab": {
          "base_uri": "https://localhost:8080/",
          "height": 235
        },
        "outputId": "5fe16d34-46be-4a25-8f8c-aff0ee5fd564"
      },
      "source": [
        "final_df2.head()"
      ],
      "execution_count": 14,
      "outputs": [
        {
          "output_type": "execute_result",
          "data": {
            "text/html": [
              "<div>\n",
              "<style scoped>\n",
              "    .dataframe tbody tr th:only-of-type {\n",
              "        vertical-align: middle;\n",
              "    }\n",
              "\n",
              "    .dataframe tbody tr th {\n",
              "        vertical-align: top;\n",
              "    }\n",
              "\n",
              "    .dataframe thead th {\n",
              "        text-align: right;\n",
              "    }\n",
              "</style>\n",
              "<table border=\"1\" class=\"dataframe\">\n",
              "  <thead>\n",
              "    <tr style=\"text-align: right;\">\n",
              "      <th></th>\n",
              "      <th></th>\n",
              "      <th></th>\n",
              "      <th></th>\n",
              "      <th>Relative Placement</th>\n",
              "      <th>Non-Relative</th>\n",
              "      <th>Relative</th>\n",
              "    </tr>\n",
              "    <tr>\n",
              "      <th>Fiscal Year</th>\n",
              "      <th>Region</th>\n",
              "      <th>Gender</th>\n",
              "      <th>Race/Ethnicity</th>\n",
              "      <th>Age Group</th>\n",
              "      <th></th>\n",
              "      <th></th>\n",
              "    </tr>\n",
              "  </thead>\n",
              "  <tbody>\n",
              "    <tr>\n",
              "      <th rowspan=\"5\" valign=\"top\">2010</th>\n",
              "      <th rowspan=\"5\" valign=\"top\">1-Lubbock</th>\n",
              "      <th rowspan=\"5\" valign=\"top\">Female</th>\n",
              "      <th rowspan=\"3\" valign=\"top\">African American</th>\n",
              "      <th>Birth to Five Years Old</th>\n",
              "      <td>25.0</td>\n",
              "      <td>14.0</td>\n",
              "    </tr>\n",
              "    <tr>\n",
              "      <th>Six to Twelve Years Old</th>\n",
              "      <td>26.0</td>\n",
              "      <td>6.0</td>\n",
              "    </tr>\n",
              "    <tr>\n",
              "      <th>Thirteen to Seventeen Years Old</th>\n",
              "      <td>34.0</td>\n",
              "      <td>1.0</td>\n",
              "    </tr>\n",
              "    <tr>\n",
              "      <th rowspan=\"2\" valign=\"top\">Anglo</th>\n",
              "      <th>Birth to Five Years Old</th>\n",
              "      <td>40.0</td>\n",
              "      <td>18.0</td>\n",
              "    </tr>\n",
              "    <tr>\n",
              "      <th>Six to Twelve Years Old</th>\n",
              "      <td>45.0</td>\n",
              "      <td>18.0</td>\n",
              "    </tr>\n",
              "  </tbody>\n",
              "</table>\n",
              "</div>"
            ],
            "text/plain": [
              "Relative Placement                                                             Non-Relative  Relative\n",
              "Fiscal Year Region    Gender Race/Ethnicity   Age Group                                              \n",
              "2010        1-Lubbock Female African American Birth to Five Years Old                  25.0      14.0\n",
              "                                              Six to Twelve Years Old                  26.0       6.0\n",
              "                                              Thirteen to Seventeen Years Old          34.0       1.0\n",
              "                             Anglo            Birth to Five Years Old                  40.0      18.0\n",
              "                                              Six to Twelve Years Old                  45.0      18.0"
            ]
          },
          "metadata": {
            "tags": []
          },
          "execution_count": 14
        }
      ]
    },
    {
      "cell_type": "code",
      "metadata": {
        "id": "60LjLNDoh9qk",
        "colab_type": "code",
        "colab": {}
      },
      "source": [
        "final_df3 = final_df1.merge(final_df2, on=['Fiscal Year','Region','Gender','Race/Ethnicity','Age Group'])"
      ],
      "execution_count": 15,
      "outputs": []
    },
    {
      "cell_type": "code",
      "metadata": {
        "id": "rAWS2hf_mfXP",
        "colab_type": "code",
        "colab": {
          "base_uri": "https://localhost:8080/",
          "height": 235
        },
        "outputId": "6d0c1610-72d6-45ad-c460-066a40743ebb"
      },
      "source": [
        "final_df3.head()"
      ],
      "execution_count": 16,
      "outputs": [
        {
          "output_type": "execute_result",
          "data": {
            "text/html": [
              "<div>\n",
              "<style scoped>\n",
              "    .dataframe tbody tr th:only-of-type {\n",
              "        vertical-align: middle;\n",
              "    }\n",
              "\n",
              "    .dataframe tbody tr th {\n",
              "        vertical-align: top;\n",
              "    }\n",
              "\n",
              "    .dataframe thead th {\n",
              "        text-align: right;\n",
              "    }\n",
              "</style>\n",
              "<table border=\"1\" class=\"dataframe\">\n",
              "  <thead>\n",
              "    <tr style=\"text-align: right;\">\n",
              "      <th></th>\n",
              "      <th></th>\n",
              "      <th></th>\n",
              "      <th></th>\n",
              "      <th></th>\n",
              "      <th>Foster Care</th>\n",
              "      <th>Other Substitute Care</th>\n",
              "      <th>Non-Relative</th>\n",
              "      <th>Relative</th>\n",
              "    </tr>\n",
              "    <tr>\n",
              "      <th>Fiscal Year</th>\n",
              "      <th>Region</th>\n",
              "      <th>Gender</th>\n",
              "      <th>Race/Ethnicity</th>\n",
              "      <th>Age Group</th>\n",
              "      <th></th>\n",
              "      <th></th>\n",
              "      <th></th>\n",
              "      <th></th>\n",
              "    </tr>\n",
              "  </thead>\n",
              "  <tbody>\n",
              "    <tr>\n",
              "      <th rowspan=\"5\" valign=\"top\">2010</th>\n",
              "      <th rowspan=\"5\" valign=\"top\">1-Lubbock</th>\n",
              "      <th rowspan=\"5\" valign=\"top\">Female</th>\n",
              "      <th rowspan=\"3\" valign=\"top\">African American</th>\n",
              "      <th>Birth to Five Years Old</th>\n",
              "      <td>24.0</td>\n",
              "      <td>15.0</td>\n",
              "      <td>25.0</td>\n",
              "      <td>14.0</td>\n",
              "    </tr>\n",
              "    <tr>\n",
              "      <th>Six to Twelve Years Old</th>\n",
              "      <td>24.0</td>\n",
              "      <td>8.0</td>\n",
              "      <td>26.0</td>\n",
              "      <td>6.0</td>\n",
              "    </tr>\n",
              "    <tr>\n",
              "      <th>Thirteen to Seventeen Years Old</th>\n",
              "      <td>32.0</td>\n",
              "      <td>3.0</td>\n",
              "      <td>34.0</td>\n",
              "      <td>1.0</td>\n",
              "    </tr>\n",
              "    <tr>\n",
              "      <th rowspan=\"2\" valign=\"top\">Anglo</th>\n",
              "      <th>Birth to Five Years Old</th>\n",
              "      <td>40.0</td>\n",
              "      <td>18.0</td>\n",
              "      <td>40.0</td>\n",
              "      <td>18.0</td>\n",
              "    </tr>\n",
              "    <tr>\n",
              "      <th>Six to Twelve Years Old</th>\n",
              "      <td>46.0</td>\n",
              "      <td>17.0</td>\n",
              "      <td>45.0</td>\n",
              "      <td>18.0</td>\n",
              "    </tr>\n",
              "  </tbody>\n",
              "</table>\n",
              "</div>"
            ],
            "text/plain": [
              "                                                                               Foster Care  ...  Relative\n",
              "Fiscal Year Region    Gender Race/Ethnicity   Age Group                                     ...          \n",
              "2010        1-Lubbock Female African American Birth to Five Years Old                 24.0  ...      14.0\n",
              "                                              Six to Twelve Years Old                 24.0  ...       6.0\n",
              "                                              Thirteen to Seventeen Years Old         32.0  ...       1.0\n",
              "                             Anglo            Birth to Five Years Old                 40.0  ...      18.0\n",
              "                                              Six to Twelve Years Old                 46.0  ...      18.0\n",
              "\n",
              "[5 rows x 4 columns]"
            ]
          },
          "metadata": {
            "tags": []
          },
          "execution_count": 16
        }
      ]
    },
    {
      "cell_type": "code",
      "metadata": {
        "id": "8ygjzUOFmotZ",
        "colab_type": "code",
        "colab": {
          "base_uri": "https://localhost:8080/",
          "height": 272
        },
        "outputId": "1226a74c-a8c1-4be3-a2d3-ae9460c52fe9"
      },
      "source": [
        "df0.info()"
      ],
      "execution_count": 17,
      "outputs": [
        {
          "output_type": "stream",
          "text": [
            "<class 'pandas.core.frame.DataFrame'>\n",
            "RangeIndex: 45219 entries, 0 to 45218\n",
            "Data columns (total 8 columns):\n",
            " #   Column             Non-Null Count  Dtype \n",
            "---  ------             --------------  ----- \n",
            " 0   Fiscal Year        45219 non-null  int64 \n",
            " 1   Region Code        45219 non-null  int64 \n",
            " 2   Region             45219 non-null  object\n",
            " 3   Confirmed Victims  45219 non-null  object\n",
            " 4   Gender             45219 non-null  object\n",
            " 5   Race/Ethnicity     45219 non-null  object\n",
            " 6   Age                45219 non-null  object\n",
            " 7   Victims            45219 non-null  int64 \n",
            "dtypes: int64(3), object(5)\n",
            "memory usage: 2.8+ MB\n"
          ],
          "name": "stdout"
        }
      ]
    },
    {
      "cell_type": "code",
      "metadata": {
        "id": "mPJuOei2a_Z3",
        "colab_type": "code",
        "colab": {
          "base_uri": "https://localhost:8080/",
          "height": 204
        },
        "outputId": "f293a044-1bff-47c9-f49e-590c29a095c2"
      },
      "source": [
        "df0.head()"
      ],
      "execution_count": 18,
      "outputs": [
        {
          "output_type": "execute_result",
          "data": {
            "text/html": [
              "<div>\n",
              "<style scoped>\n",
              "    .dataframe tbody tr th:only-of-type {\n",
              "        vertical-align: middle;\n",
              "    }\n",
              "\n",
              "    .dataframe tbody tr th {\n",
              "        vertical-align: top;\n",
              "    }\n",
              "\n",
              "    .dataframe thead th {\n",
              "        text-align: right;\n",
              "    }\n",
              "</style>\n",
              "<table border=\"1\" class=\"dataframe\">\n",
              "  <thead>\n",
              "    <tr style=\"text-align: right;\">\n",
              "      <th></th>\n",
              "      <th>Fiscal Year</th>\n",
              "      <th>Region Code</th>\n",
              "      <th>Region</th>\n",
              "      <th>Confirmed Victims</th>\n",
              "      <th>Gender</th>\n",
              "      <th>Race/Ethnicity</th>\n",
              "      <th>Age</th>\n",
              "      <th>Victims</th>\n",
              "    </tr>\n",
              "  </thead>\n",
              "  <tbody>\n",
              "    <tr>\n",
              "      <th>0</th>\n",
              "      <td>2019</td>\n",
              "      <td>1</td>\n",
              "      <td>1-Lubbock</td>\n",
              "      <td>Not Confirmed</td>\n",
              "      <td>Female</td>\n",
              "      <td>African American</td>\n",
              "      <td>0</td>\n",
              "      <td>43</td>\n",
              "    </tr>\n",
              "    <tr>\n",
              "      <th>1</th>\n",
              "      <td>2019</td>\n",
              "      <td>1</td>\n",
              "      <td>1-Lubbock</td>\n",
              "      <td>Not Confirmed</td>\n",
              "      <td>Female</td>\n",
              "      <td>African American</td>\n",
              "      <td>1</td>\n",
              "      <td>35</td>\n",
              "    </tr>\n",
              "    <tr>\n",
              "      <th>2</th>\n",
              "      <td>2019</td>\n",
              "      <td>1</td>\n",
              "      <td>1-Lubbock</td>\n",
              "      <td>Not Confirmed</td>\n",
              "      <td>Female</td>\n",
              "      <td>African American</td>\n",
              "      <td>10</td>\n",
              "      <td>10</td>\n",
              "    </tr>\n",
              "    <tr>\n",
              "      <th>3</th>\n",
              "      <td>2019</td>\n",
              "      <td>1</td>\n",
              "      <td>1-Lubbock</td>\n",
              "      <td>Not Confirmed</td>\n",
              "      <td>Female</td>\n",
              "      <td>African American</td>\n",
              "      <td>11</td>\n",
              "      <td>13</td>\n",
              "    </tr>\n",
              "    <tr>\n",
              "      <th>4</th>\n",
              "      <td>2019</td>\n",
              "      <td>1</td>\n",
              "      <td>1-Lubbock</td>\n",
              "      <td>Not Confirmed</td>\n",
              "      <td>Female</td>\n",
              "      <td>African American</td>\n",
              "      <td>12</td>\n",
              "      <td>12</td>\n",
              "    </tr>\n",
              "  </tbody>\n",
              "</table>\n",
              "</div>"
            ],
            "text/plain": [
              "   Fiscal Year  Region Code     Region  ...    Race/Ethnicity Age Victims\n",
              "0         2019            1  1-Lubbock  ...  African American   0      43\n",
              "1         2019            1  1-Lubbock  ...  African American   1      35\n",
              "2         2019            1  1-Lubbock  ...  African American  10      10\n",
              "3         2019            1  1-Lubbock  ...  African American  11      13\n",
              "4         2019            1  1-Lubbock  ...  African American  12      12\n",
              "\n",
              "[5 rows x 8 columns]"
            ]
          },
          "metadata": {
            "tags": []
          },
          "execution_count": 18
        }
      ]
    },
    {
      "cell_type": "code",
      "metadata": {
        "id": "b3oDus8Rcvf5",
        "colab_type": "code",
        "colab": {}
      },
      "source": [
        "df0 = df0[df0['Age'] != 'Over 18']\n",
        "df0 = df0[df0['Age'] != 'Unknown']\n",
        "df0['Age'] = df0['Age'].astype(float)"
      ],
      "execution_count": 19,
      "outputs": []
    },
    {
      "cell_type": "code",
      "metadata": {
        "id": "WprisNjVp_rh",
        "colab_type": "code",
        "colab": {}
      },
      "source": [
        ""
      ],
      "execution_count": 19,
      "outputs": []
    },
    {
      "cell_type": "code",
      "metadata": {
        "id": "OBEq2Pt7cxbN",
        "colab_type": "code",
        "colab": {}
      },
      "source": [
        "df0.drop(['Region Code'], axis=1, inplace=True)"
      ],
      "execution_count": 20,
      "outputs": []
    },
    {
      "cell_type": "code",
      "metadata": {
        "id": "79posRzWczUu",
        "colab_type": "code",
        "colab": {}
      },
      "source": [
        "df0.drop(['Confirmed Victims'], axis=1, inplace=True)"
      ],
      "execution_count": 21,
      "outputs": []
    },
    {
      "cell_type": "code",
      "metadata": {
        "id": "_yXeuWnkc56e",
        "colab_type": "code",
        "colab": {}
      },
      "source": [
        "# bucketize the 'Age' column into 'Age Group'\n",
        "\n",
        "bins = [0, 5, 12, 17]\n",
        "labels = ['Birth to Five Years Old', 'Six to Twelve Years Old', 'Thirteen to Seventeen Years Old']\n",
        "df0['Age Group'] = pd.cut(df0['Age'], bins, labels=labels)\n",
        "df0.drop(['Age'], axis=1, inplace=True)"
      ],
      "execution_count": 22,
      "outputs": []
    },
    {
      "cell_type": "code",
      "metadata": {
        "id": "igBu81FmcCs2",
        "colab_type": "code",
        "colab": {}
      },
      "source": [
        "df0_2 = df0.groupby(['Fiscal Year','Region','Gender','Race/Ethnicity','Age Group']).count()['Victims']"
      ],
      "execution_count": 23,
      "outputs": []
    },
    {
      "cell_type": "code",
      "metadata": {
        "id": "sOFaO6t0eFkF",
        "colab_type": "code",
        "colab": {
          "base_uri": "https://localhost:8080/",
          "height": 238
        },
        "outputId": "15601261-a332-4a88-91b0-d0a63e155bef"
      },
      "source": [
        "df0_2.reset_index"
      ],
      "execution_count": 24,
      "outputs": [
        {
          "output_type": "execute_result",
          "data": {
            "text/plain": [
              "<bound method Series.reset_index of Fiscal Year  Region        Gender   Race/Ethnicity    Age Group                      \n",
              "2010         1-Lubbock     Female   African American  Birth to Five Years Old            10.0\n",
              "                                                      Six to Twelve Years Old            14.0\n",
              "                                                      Thirteen to Seventeen Years Old    10.0\n",
              "                                    Anglo             Birth to Five Years Old            10.0\n",
              "                                                      Six to Twelve Years Old            14.0\n",
              "                                                                                         ... \n",
              "2019         Out of State  Unknown  Native American   Six to Twelve Years Old             NaN\n",
              "                                                      Thirteen to Seventeen Years Old     NaN\n",
              "                                    Other             Birth to Five Years Old             NaN\n",
              "                                                      Six to Twelve Years Old             NaN\n",
              "                                                      Thirteen to Seventeen Years Old     NaN\n",
              "Name: Victims, Length: 6480, dtype: float64>"
            ]
          },
          "metadata": {
            "tags": []
          },
          "execution_count": 24
        }
      ]
    },
    {
      "cell_type": "code",
      "metadata": {
        "id": "ExunyRXGeHoT",
        "colab_type": "code",
        "colab": {
          "base_uri": "https://localhost:8080/",
          "height": 272
        },
        "outputId": "ca5cb3fc-feb7-497b-e90c-f3710c0fa7a1"
      },
      "source": [
        "final_df3.reset_index"
      ],
      "execution_count": 25,
      "outputs": [
        {
          "output_type": "execute_result",
          "data": {
            "text/plain": [
              "<bound method DataFrame.reset_index of                                                                                Foster Care  ...  Relative\n",
              "Fiscal Year Region    Gender Race/Ethnicity   Age Group                                     ...          \n",
              "2010        1-Lubbock Female African American Birth to Five Years Old                 24.0  ...      14.0\n",
              "                                              Six to Twelve Years Old                 24.0  ...       6.0\n",
              "                                              Thirteen to Seventeen Years Old         32.0  ...       1.0\n",
              "                             Anglo            Birth to Five Years Old                 40.0  ...      18.0\n",
              "                                              Six to Twelve Years Old                 46.0  ...      18.0\n",
              "...                                                                                    ...  ...       ...\n",
              "2019        9-Midland Male   Native American  Birth to Five Years Old                  NaN  ...       2.0\n",
              "                                              Six to Twelve Years Old                  1.0  ...       NaN\n",
              "                             Other            Birth to Five Years Old                  4.0  ...       6.0\n",
              "                                              Six to Twelve Years Old                  7.0  ...       3.0\n",
              "                                              Thirteen to Seventeen Years Old          1.0  ...       NaN\n",
              "\n",
              "[3090 rows x 4 columns]>"
            ]
          },
          "metadata": {
            "tags": []
          },
          "execution_count": 25
        }
      ]
    },
    {
      "cell_type": "code",
      "metadata": {
        "id": "yZHSwIHKeMox",
        "colab_type": "code",
        "colab": {}
      },
      "source": [
        "final_df4 = pd.merge(df0_2, final_df3, on = ['Fiscal Year','Region','Gender','Race/Ethnicity','Age Group'])"
      ],
      "execution_count": 26,
      "outputs": []
    },
    {
      "cell_type": "code",
      "metadata": {
        "id": "7nT9uf4bVfB0",
        "colab_type": "code",
        "colab": {
          "base_uri": "https://localhost:8080/",
          "height": 235
        },
        "outputId": "284127c1-75b3-4e4c-8bfc-a393b37bb056"
      },
      "source": [
        "final_df4.head()"
      ],
      "execution_count": 27,
      "outputs": [
        {
          "output_type": "execute_result",
          "data": {
            "text/html": [
              "<div>\n",
              "<style scoped>\n",
              "    .dataframe tbody tr th:only-of-type {\n",
              "        vertical-align: middle;\n",
              "    }\n",
              "\n",
              "    .dataframe tbody tr th {\n",
              "        vertical-align: top;\n",
              "    }\n",
              "\n",
              "    .dataframe thead th {\n",
              "        text-align: right;\n",
              "    }\n",
              "</style>\n",
              "<table border=\"1\" class=\"dataframe\">\n",
              "  <thead>\n",
              "    <tr style=\"text-align: right;\">\n",
              "      <th></th>\n",
              "      <th></th>\n",
              "      <th></th>\n",
              "      <th></th>\n",
              "      <th></th>\n",
              "      <th>Victims</th>\n",
              "      <th>Foster Care</th>\n",
              "      <th>Other Substitute Care</th>\n",
              "      <th>Non-Relative</th>\n",
              "      <th>Relative</th>\n",
              "    </tr>\n",
              "    <tr>\n",
              "      <th>Fiscal Year</th>\n",
              "      <th>Region</th>\n",
              "      <th>Gender</th>\n",
              "      <th>Race/Ethnicity</th>\n",
              "      <th>Age Group</th>\n",
              "      <th></th>\n",
              "      <th></th>\n",
              "      <th></th>\n",
              "      <th></th>\n",
              "      <th></th>\n",
              "    </tr>\n",
              "  </thead>\n",
              "  <tbody>\n",
              "    <tr>\n",
              "      <th rowspan=\"5\" valign=\"top\">2010</th>\n",
              "      <th rowspan=\"5\" valign=\"top\">1-Lubbock</th>\n",
              "      <th rowspan=\"5\" valign=\"top\">Female</th>\n",
              "      <th rowspan=\"3\" valign=\"top\">African American</th>\n",
              "      <th>Birth to Five Years Old</th>\n",
              "      <td>10.0</td>\n",
              "      <td>24.0</td>\n",
              "      <td>15.0</td>\n",
              "      <td>25.0</td>\n",
              "      <td>14.0</td>\n",
              "    </tr>\n",
              "    <tr>\n",
              "      <th>Six to Twelve Years Old</th>\n",
              "      <td>14.0</td>\n",
              "      <td>24.0</td>\n",
              "      <td>8.0</td>\n",
              "      <td>26.0</td>\n",
              "      <td>6.0</td>\n",
              "    </tr>\n",
              "    <tr>\n",
              "      <th>Thirteen to Seventeen Years Old</th>\n",
              "      <td>10.0</td>\n",
              "      <td>32.0</td>\n",
              "      <td>3.0</td>\n",
              "      <td>34.0</td>\n",
              "      <td>1.0</td>\n",
              "    </tr>\n",
              "    <tr>\n",
              "      <th rowspan=\"2\" valign=\"top\">Anglo</th>\n",
              "      <th>Birth to Five Years Old</th>\n",
              "      <td>10.0</td>\n",
              "      <td>40.0</td>\n",
              "      <td>18.0</td>\n",
              "      <td>40.0</td>\n",
              "      <td>18.0</td>\n",
              "    </tr>\n",
              "    <tr>\n",
              "      <th>Six to Twelve Years Old</th>\n",
              "      <td>14.0</td>\n",
              "      <td>46.0</td>\n",
              "      <td>17.0</td>\n",
              "      <td>45.0</td>\n",
              "      <td>18.0</td>\n",
              "    </tr>\n",
              "  </tbody>\n",
              "</table>\n",
              "</div>"
            ],
            "text/plain": [
              "                                                                               Victims  ...  Relative\n",
              "Fiscal Year Region    Gender Race/Ethnicity   Age Group                                 ...          \n",
              "2010        1-Lubbock Female African American Birth to Five Years Old             10.0  ...      14.0\n",
              "                                              Six to Twelve Years Old             14.0  ...       6.0\n",
              "                                              Thirteen to Seventeen Years Old     10.0  ...       1.0\n",
              "                             Anglo            Birth to Five Years Old             10.0  ...      18.0\n",
              "                                              Six to Twelve Years Old             14.0  ...      18.0\n",
              "\n",
              "[5 rows x 5 columns]"
            ]
          },
          "metadata": {
            "tags": []
          },
          "execution_count": 27
        }
      ]
    },
    {
      "cell_type": "code",
      "metadata": {
        "id": "LYusw3k7W_3P",
        "colab_type": "code",
        "colab": {
          "base_uri": "https://localhost:8080/",
          "height": 204
        },
        "outputId": "d3902d96-8a9f-4690-9161-927504ed6a4e"
      },
      "source": [
        "df1.head()"
      ],
      "execution_count": 28,
      "outputs": [
        {
          "output_type": "execute_result",
          "data": {
            "text/html": [
              "<div>\n",
              "<style scoped>\n",
              "    .dataframe tbody tr th:only-of-type {\n",
              "        vertical-align: middle;\n",
              "    }\n",
              "\n",
              "    .dataframe tbody tr th {\n",
              "        vertical-align: top;\n",
              "    }\n",
              "\n",
              "    .dataframe thead th {\n",
              "        text-align: right;\n",
              "    }\n",
              "</style>\n",
              "<table border=\"1\" class=\"dataframe\">\n",
              "  <thead>\n",
              "    <tr style=\"text-align: right;\">\n",
              "      <th></th>\n",
              "      <th>Fiscal Year</th>\n",
              "      <th>Region</th>\n",
              "      <th>Removal Stage</th>\n",
              "      <th>Gender</th>\n",
              "      <th>Race/Ethnicity</th>\n",
              "      <th>Age</th>\n",
              "      <th>Removals</th>\n",
              "    </tr>\n",
              "  </thead>\n",
              "  <tbody>\n",
              "    <tr>\n",
              "      <th>0</th>\n",
              "      <td>2019</td>\n",
              "      <td>1-Lubbock</td>\n",
              "      <td>Family Preservation</td>\n",
              "      <td>Female</td>\n",
              "      <td>African American</td>\n",
              "      <td>0</td>\n",
              "      <td>1</td>\n",
              "    </tr>\n",
              "    <tr>\n",
              "      <th>1</th>\n",
              "      <td>2019</td>\n",
              "      <td>1-Lubbock</td>\n",
              "      <td>Family Preservation</td>\n",
              "      <td>Female</td>\n",
              "      <td>African American</td>\n",
              "      <td>1</td>\n",
              "      <td>1</td>\n",
              "    </tr>\n",
              "    <tr>\n",
              "      <th>2</th>\n",
              "      <td>2019</td>\n",
              "      <td>1-Lubbock</td>\n",
              "      <td>Family Preservation</td>\n",
              "      <td>Female</td>\n",
              "      <td>African American</td>\n",
              "      <td>2</td>\n",
              "      <td>1</td>\n",
              "    </tr>\n",
              "    <tr>\n",
              "      <th>3</th>\n",
              "      <td>2019</td>\n",
              "      <td>1-Lubbock</td>\n",
              "      <td>Family Preservation</td>\n",
              "      <td>Female</td>\n",
              "      <td>African American</td>\n",
              "      <td>3</td>\n",
              "      <td>0</td>\n",
              "    </tr>\n",
              "    <tr>\n",
              "      <th>4</th>\n",
              "      <td>2019</td>\n",
              "      <td>1-Lubbock</td>\n",
              "      <td>Family Preservation</td>\n",
              "      <td>Female</td>\n",
              "      <td>African American</td>\n",
              "      <td>4</td>\n",
              "      <td>0</td>\n",
              "    </tr>\n",
              "  </tbody>\n",
              "</table>\n",
              "</div>"
            ],
            "text/plain": [
              "   Fiscal Year     Region        Removal Stage  ...    Race/Ethnicity Age  Removals\n",
              "0         2019  1-Lubbock  Family Preservation  ...  African American   0         1\n",
              "1         2019  1-Lubbock  Family Preservation  ...  African American   1         1\n",
              "2         2019  1-Lubbock  Family Preservation  ...  African American   2         1\n",
              "3         2019  1-Lubbock  Family Preservation  ...  African American   3         0\n",
              "4         2019  1-Lubbock  Family Preservation  ...  African American   4         0\n",
              "\n",
              "[5 rows x 7 columns]"
            ]
          },
          "metadata": {
            "tags": []
          },
          "execution_count": 28
        }
      ]
    },
    {
      "cell_type": "code",
      "metadata": {
        "id": "jB-XGng-jkBw",
        "colab_type": "code",
        "colab": {}
      },
      "source": [
        "# bucketize the 'Age' column into 'Age Group'\n",
        "\n",
        "bins = [0, 5, 12, 17]\n",
        "labels = ['Birth to Five Years Old', 'Six to Twelve Years Old', 'Thirteen to Seventeen Years Old']\n",
        "df1['Age Group'] = pd.cut(df1['Age'], bins, labels=labels)\n",
        "df1.drop(['Age'], axis=1, inplace=True)"
      ],
      "execution_count": 29,
      "outputs": []
    },
    {
      "cell_type": "code",
      "metadata": {
        "id": "uJiPPtP0jv9L",
        "colab_type": "code",
        "colab": {
          "base_uri": "https://localhost:8080/",
          "height": 204
        },
        "outputId": "00581476-1c02-4575-a979-d871fd2c3226"
      },
      "source": [
        "df1.head()"
      ],
      "execution_count": 30,
      "outputs": [
        {
          "output_type": "execute_result",
          "data": {
            "text/html": [
              "<div>\n",
              "<style scoped>\n",
              "    .dataframe tbody tr th:only-of-type {\n",
              "        vertical-align: middle;\n",
              "    }\n",
              "\n",
              "    .dataframe tbody tr th {\n",
              "        vertical-align: top;\n",
              "    }\n",
              "\n",
              "    .dataframe thead th {\n",
              "        text-align: right;\n",
              "    }\n",
              "</style>\n",
              "<table border=\"1\" class=\"dataframe\">\n",
              "  <thead>\n",
              "    <tr style=\"text-align: right;\">\n",
              "      <th></th>\n",
              "      <th>Fiscal Year</th>\n",
              "      <th>Region</th>\n",
              "      <th>Removal Stage</th>\n",
              "      <th>Gender</th>\n",
              "      <th>Race/Ethnicity</th>\n",
              "      <th>Removals</th>\n",
              "      <th>Age Group</th>\n",
              "    </tr>\n",
              "  </thead>\n",
              "  <tbody>\n",
              "    <tr>\n",
              "      <th>0</th>\n",
              "      <td>2019</td>\n",
              "      <td>1-Lubbock</td>\n",
              "      <td>Family Preservation</td>\n",
              "      <td>Female</td>\n",
              "      <td>African American</td>\n",
              "      <td>1</td>\n",
              "      <td>NaN</td>\n",
              "    </tr>\n",
              "    <tr>\n",
              "      <th>1</th>\n",
              "      <td>2019</td>\n",
              "      <td>1-Lubbock</td>\n",
              "      <td>Family Preservation</td>\n",
              "      <td>Female</td>\n",
              "      <td>African American</td>\n",
              "      <td>1</td>\n",
              "      <td>Birth to Five Years Old</td>\n",
              "    </tr>\n",
              "    <tr>\n",
              "      <th>2</th>\n",
              "      <td>2019</td>\n",
              "      <td>1-Lubbock</td>\n",
              "      <td>Family Preservation</td>\n",
              "      <td>Female</td>\n",
              "      <td>African American</td>\n",
              "      <td>1</td>\n",
              "      <td>Birth to Five Years Old</td>\n",
              "    </tr>\n",
              "    <tr>\n",
              "      <th>3</th>\n",
              "      <td>2019</td>\n",
              "      <td>1-Lubbock</td>\n",
              "      <td>Family Preservation</td>\n",
              "      <td>Female</td>\n",
              "      <td>African American</td>\n",
              "      <td>0</td>\n",
              "      <td>Birth to Five Years Old</td>\n",
              "    </tr>\n",
              "    <tr>\n",
              "      <th>4</th>\n",
              "      <td>2019</td>\n",
              "      <td>1-Lubbock</td>\n",
              "      <td>Family Preservation</td>\n",
              "      <td>Female</td>\n",
              "      <td>African American</td>\n",
              "      <td>0</td>\n",
              "      <td>Birth to Five Years Old</td>\n",
              "    </tr>\n",
              "  </tbody>\n",
              "</table>\n",
              "</div>"
            ],
            "text/plain": [
              "   Fiscal Year     Region  ... Removals                Age Group\n",
              "0         2019  1-Lubbock  ...        1                      NaN\n",
              "1         2019  1-Lubbock  ...        1  Birth to Five Years Old\n",
              "2         2019  1-Lubbock  ...        1  Birth to Five Years Old\n",
              "3         2019  1-Lubbock  ...        0  Birth to Five Years Old\n",
              "4         2019  1-Lubbock  ...        0  Birth to Five Years Old\n",
              "\n",
              "[5 rows x 7 columns]"
            ]
          },
          "metadata": {
            "tags": []
          },
          "execution_count": 30
        }
      ]
    },
    {
      "cell_type": "code",
      "metadata": {
        "id": "lLTUfz2vj71l",
        "colab_type": "code",
        "colab": {}
      },
      "source": [
        "df1.drop(['Removal Stage'], axis=1, inplace=True)"
      ],
      "execution_count": 31,
      "outputs": []
    },
    {
      "cell_type": "code",
      "metadata": {
        "id": "07qaIZjXjybN",
        "colab_type": "code",
        "colab": {}
      },
      "source": [
        "df1_2 = df1.groupby(['Fiscal Year','Region','Gender','Race/Ethnicity','Age Group']).count()['Removals']"
      ],
      "execution_count": 32,
      "outputs": []
    },
    {
      "cell_type": "code",
      "metadata": {
        "id": "uWZd2HkCkEt5",
        "colab_type": "code",
        "colab": {}
      },
      "source": [
        "final_df5 = pd.merge(df1_2, final_df4, on = ['Fiscal Year','Region','Gender','Race/Ethnicity','Age Group'])"
      ],
      "execution_count": 33,
      "outputs": []
    },
    {
      "cell_type": "code",
      "metadata": {
        "id": "zMdDwAAemUKu",
        "colab_type": "code",
        "colab": {
          "base_uri": "https://localhost:8080/",
          "height": 235
        },
        "outputId": "b66cac00-e46b-4bf6-ba09-e09c79fe4ba2"
      },
      "source": [
        "final_df5.head()"
      ],
      "execution_count": 34,
      "outputs": [
        {
          "output_type": "execute_result",
          "data": {
            "text/html": [
              "<div>\n",
              "<style scoped>\n",
              "    .dataframe tbody tr th:only-of-type {\n",
              "        vertical-align: middle;\n",
              "    }\n",
              "\n",
              "    .dataframe tbody tr th {\n",
              "        vertical-align: top;\n",
              "    }\n",
              "\n",
              "    .dataframe thead th {\n",
              "        text-align: right;\n",
              "    }\n",
              "</style>\n",
              "<table border=\"1\" class=\"dataframe\">\n",
              "  <thead>\n",
              "    <tr style=\"text-align: right;\">\n",
              "      <th></th>\n",
              "      <th></th>\n",
              "      <th></th>\n",
              "      <th></th>\n",
              "      <th></th>\n",
              "      <th>Removals</th>\n",
              "      <th>Victims</th>\n",
              "      <th>Foster Care</th>\n",
              "      <th>Other Substitute Care</th>\n",
              "      <th>Non-Relative</th>\n",
              "      <th>Relative</th>\n",
              "    </tr>\n",
              "    <tr>\n",
              "      <th>Fiscal Year</th>\n",
              "      <th>Region</th>\n",
              "      <th>Gender</th>\n",
              "      <th>Race/Ethnicity</th>\n",
              "      <th>Age Group</th>\n",
              "      <th></th>\n",
              "      <th></th>\n",
              "      <th></th>\n",
              "      <th></th>\n",
              "      <th></th>\n",
              "      <th></th>\n",
              "    </tr>\n",
              "  </thead>\n",
              "  <tbody>\n",
              "    <tr>\n",
              "      <th rowspan=\"5\" valign=\"top\">2010</th>\n",
              "      <th rowspan=\"5\" valign=\"top\">1-Lubbock</th>\n",
              "      <th rowspan=\"5\" valign=\"top\">Female</th>\n",
              "      <th rowspan=\"3\" valign=\"top\">African American</th>\n",
              "      <th>Birth to Five Years Old</th>\n",
              "      <td>10.0</td>\n",
              "      <td>10.0</td>\n",
              "      <td>24.0</td>\n",
              "      <td>15.0</td>\n",
              "      <td>25.0</td>\n",
              "      <td>14.0</td>\n",
              "    </tr>\n",
              "    <tr>\n",
              "      <th>Six to Twelve Years Old</th>\n",
              "      <td>12.0</td>\n",
              "      <td>14.0</td>\n",
              "      <td>24.0</td>\n",
              "      <td>8.0</td>\n",
              "      <td>26.0</td>\n",
              "      <td>6.0</td>\n",
              "    </tr>\n",
              "    <tr>\n",
              "      <th>Thirteen to Seventeen Years Old</th>\n",
              "      <td>6.0</td>\n",
              "      <td>10.0</td>\n",
              "      <td>32.0</td>\n",
              "      <td>3.0</td>\n",
              "      <td>34.0</td>\n",
              "      <td>1.0</td>\n",
              "    </tr>\n",
              "    <tr>\n",
              "      <th rowspan=\"2\" valign=\"top\">Anglo</th>\n",
              "      <th>Birth to Five Years Old</th>\n",
              "      <td>10.0</td>\n",
              "      <td>10.0</td>\n",
              "      <td>40.0</td>\n",
              "      <td>18.0</td>\n",
              "      <td>40.0</td>\n",
              "      <td>18.0</td>\n",
              "    </tr>\n",
              "    <tr>\n",
              "      <th>Six to Twelve Years Old</th>\n",
              "      <td>14.0</td>\n",
              "      <td>14.0</td>\n",
              "      <td>46.0</td>\n",
              "      <td>17.0</td>\n",
              "      <td>45.0</td>\n",
              "      <td>18.0</td>\n",
              "    </tr>\n",
              "  </tbody>\n",
              "</table>\n",
              "</div>"
            ],
            "text/plain": [
              "                                                                               Removals  ...  Relative\n",
              "Fiscal Year Region    Gender Race/Ethnicity   Age Group                                  ...          \n",
              "2010        1-Lubbock Female African American Birth to Five Years Old              10.0  ...      14.0\n",
              "                                              Six to Twelve Years Old              12.0  ...       6.0\n",
              "                                              Thirteen to Seventeen Years Old       6.0  ...       1.0\n",
              "                             Anglo            Birth to Five Years Old              10.0  ...      18.0\n",
              "                                              Six to Twelve Years Old              14.0  ...      18.0\n",
              "\n",
              "[5 rows x 6 columns]"
            ]
          },
          "metadata": {
            "tags": []
          },
          "execution_count": 34
        }
      ]
    },
    {
      "cell_type": "code",
      "metadata": {
        "id": "x91QqJ-8mYSS",
        "colab_type": "code",
        "colab": {
          "base_uri": "https://localhost:8080/",
          "height": 204
        },
        "outputId": "d8725309-cd5e-4012-bdee-4cd384228e92"
      },
      "source": [
        "df3.head()"
      ],
      "execution_count": 35,
      "outputs": [
        {
          "output_type": "execute_result",
          "data": {
            "text/html": [
              "<div>\n",
              "<style scoped>\n",
              "    .dataframe tbody tr th:only-of-type {\n",
              "        vertical-align: middle;\n",
              "    }\n",
              "\n",
              "    .dataframe tbody tr th {\n",
              "        vertical-align: top;\n",
              "    }\n",
              "\n",
              "    .dataframe thead th {\n",
              "        text-align: right;\n",
              "    }\n",
              "</style>\n",
              "<table border=\"1\" class=\"dataframe\">\n",
              "  <thead>\n",
              "    <tr style=\"text-align: right;\">\n",
              "      <th></th>\n",
              "      <th>Fiscal Year</th>\n",
              "      <th>Region</th>\n",
              "      <th>Gender</th>\n",
              "      <th>Race/Ethnicity</th>\n",
              "      <th>Age Group</th>\n",
              "      <th>Chidlren Waiting on Adoption 31 August</th>\n",
              "      <th>Average Months since Termination of Parental Rights</th>\n",
              "    </tr>\n",
              "  </thead>\n",
              "  <tbody>\n",
              "    <tr>\n",
              "      <th>0</th>\n",
              "      <td>2019</td>\n",
              "      <td>1-Lubbock</td>\n",
              "      <td>Female</td>\n",
              "      <td>African American</td>\n",
              "      <td>Birth to 5 Years Old</td>\n",
              "      <td>1</td>\n",
              "      <td>4</td>\n",
              "    </tr>\n",
              "    <tr>\n",
              "      <th>1</th>\n",
              "      <td>2019</td>\n",
              "      <td>1-Lubbock</td>\n",
              "      <td>Female</td>\n",
              "      <td>African American</td>\n",
              "      <td>Birth to 5 Years Old</td>\n",
              "      <td>5</td>\n",
              "      <td>5</td>\n",
              "    </tr>\n",
              "    <tr>\n",
              "      <th>2</th>\n",
              "      <td>2019</td>\n",
              "      <td>1-Lubbock</td>\n",
              "      <td>Female</td>\n",
              "      <td>African American</td>\n",
              "      <td>6-12 Years Old</td>\n",
              "      <td>4</td>\n",
              "      <td>48</td>\n",
              "    </tr>\n",
              "    <tr>\n",
              "      <th>3</th>\n",
              "      <td>2019</td>\n",
              "      <td>1-Lubbock</td>\n",
              "      <td>Female</td>\n",
              "      <td>African American</td>\n",
              "      <td>13-17 Years Old</td>\n",
              "      <td>3</td>\n",
              "      <td>59</td>\n",
              "    </tr>\n",
              "    <tr>\n",
              "      <th>4</th>\n",
              "      <td>2019</td>\n",
              "      <td>1-Lubbock</td>\n",
              "      <td>Female</td>\n",
              "      <td>African American</td>\n",
              "      <td>13-17 Years Old</td>\n",
              "      <td>3</td>\n",
              "      <td>22</td>\n",
              "    </tr>\n",
              "  </tbody>\n",
              "</table>\n",
              "</div>"
            ],
            "text/plain": [
              "   Fiscal Year  ... Average Months since Termination of Parental Rights\n",
              "0         2019  ...                                                  4 \n",
              "1         2019  ...                                                  5 \n",
              "2         2019  ...                                                 48 \n",
              "3         2019  ...                                                 59 \n",
              "4         2019  ...                                                 22 \n",
              "\n",
              "[5 rows x 7 columns]"
            ]
          },
          "metadata": {
            "tags": []
          },
          "execution_count": 35
        }
      ]
    },
    {
      "cell_type": "code",
      "metadata": {
        "id": "xN9WcwZavXRx",
        "colab_type": "code",
        "colab": {}
      },
      "source": [
        ""
      ],
      "execution_count": 35,
      "outputs": []
    },
    {
      "cell_type": "code",
      "metadata": {
        "id": "WukngPIkvHBw",
        "colab_type": "code",
        "colab": {}
      },
      "source": [
        "df3['Total Months Since Termination'] = df3['Chidlren Waiting on Adoption 31 August'] * df3['Average Months since Termination of Parental Rights']"
      ],
      "execution_count": 36,
      "outputs": []
    },
    {
      "cell_type": "code",
      "metadata": {
        "id": "zAwo8hVCviE5",
        "colab_type": "code",
        "colab": {
          "base_uri": "https://localhost:8080/",
          "height": 306
        },
        "outputId": "4c4c2bc3-6d37-4697-a02a-939359da72d4"
      },
      "source": [
        "df3.head()"
      ],
      "execution_count": 37,
      "outputs": [
        {
          "output_type": "execute_result",
          "data": {
            "text/html": [
              "<div>\n",
              "<style scoped>\n",
              "    .dataframe tbody tr th:only-of-type {\n",
              "        vertical-align: middle;\n",
              "    }\n",
              "\n",
              "    .dataframe tbody tr th {\n",
              "        vertical-align: top;\n",
              "    }\n",
              "\n",
              "    .dataframe thead th {\n",
              "        text-align: right;\n",
              "    }\n",
              "</style>\n",
              "<table border=\"1\" class=\"dataframe\">\n",
              "  <thead>\n",
              "    <tr style=\"text-align: right;\">\n",
              "      <th></th>\n",
              "      <th>Fiscal Year</th>\n",
              "      <th>Region</th>\n",
              "      <th>Gender</th>\n",
              "      <th>Race/Ethnicity</th>\n",
              "      <th>Age Group</th>\n",
              "      <th>Chidlren Waiting on Adoption 31 August</th>\n",
              "      <th>Average Months since Termination of Parental Rights</th>\n",
              "      <th>Total Months Since Termination</th>\n",
              "    </tr>\n",
              "  </thead>\n",
              "  <tbody>\n",
              "    <tr>\n",
              "      <th>0</th>\n",
              "      <td>2019</td>\n",
              "      <td>1-Lubbock</td>\n",
              "      <td>Female</td>\n",
              "      <td>African American</td>\n",
              "      <td>Birth to 5 Years Old</td>\n",
              "      <td>1</td>\n",
              "      <td>4</td>\n",
              "      <td>4</td>\n",
              "    </tr>\n",
              "    <tr>\n",
              "      <th>1</th>\n",
              "      <td>2019</td>\n",
              "      <td>1-Lubbock</td>\n",
              "      <td>Female</td>\n",
              "      <td>African American</td>\n",
              "      <td>Birth to 5 Years Old</td>\n",
              "      <td>5</td>\n",
              "      <td>5</td>\n",
              "      <td>25</td>\n",
              "    </tr>\n",
              "    <tr>\n",
              "      <th>2</th>\n",
              "      <td>2019</td>\n",
              "      <td>1-Lubbock</td>\n",
              "      <td>Female</td>\n",
              "      <td>African American</td>\n",
              "      <td>6-12 Years Old</td>\n",
              "      <td>4</td>\n",
              "      <td>48</td>\n",
              "      <td>192</td>\n",
              "    </tr>\n",
              "    <tr>\n",
              "      <th>3</th>\n",
              "      <td>2019</td>\n",
              "      <td>1-Lubbock</td>\n",
              "      <td>Female</td>\n",
              "      <td>African American</td>\n",
              "      <td>13-17 Years Old</td>\n",
              "      <td>3</td>\n",
              "      <td>59</td>\n",
              "      <td>177</td>\n",
              "    </tr>\n",
              "    <tr>\n",
              "      <th>4</th>\n",
              "      <td>2019</td>\n",
              "      <td>1-Lubbock</td>\n",
              "      <td>Female</td>\n",
              "      <td>African American</td>\n",
              "      <td>13-17 Years Old</td>\n",
              "      <td>3</td>\n",
              "      <td>22</td>\n",
              "      <td>66</td>\n",
              "    </tr>\n",
              "  </tbody>\n",
              "</table>\n",
              "</div>"
            ],
            "text/plain": [
              "   Fiscal Year  ... Total Months Since Termination\n",
              "0         2019  ...                              4\n",
              "1         2019  ...                             25\n",
              "2         2019  ...                            192\n",
              "3         2019  ...                            177\n",
              "4         2019  ...                             66\n",
              "\n",
              "[5 rows x 8 columns]"
            ]
          },
          "metadata": {
            "tags": []
          },
          "execution_count": 37
        }
      ]
    },
    {
      "cell_type": "code",
      "metadata": {
        "id": "qF06Y1r7xJTZ",
        "colab_type": "code",
        "colab": {}
      },
      "source": [
        "# need to change age group labels to match final_dfs\n",
        "\n",
        "df3['Age Group'].replace({'Birth to 5 Years Old': 'Birth to Five Years Old', '6-12 Years Old': 'Six to Twelve Years Old', '13-17 Years Old':  'Thirteen to Seventeen Years Old'}, inplace=True)"
      ],
      "execution_count": 44,
      "outputs": []
    },
    {
      "cell_type": "code",
      "metadata": {
        "id": "WXuHeD0LvlVB",
        "colab_type": "code",
        "colab": {}
      },
      "source": [
        "df3_2 = df3.groupby(['Fiscal Year','Region','Gender','Race/Ethnicity','Age Group']).sum()[['Chidlren Waiting on Adoption 31 August', 'Total Months Since Termination']]"
      ],
      "execution_count": 45,
      "outputs": []
    },
    {
      "cell_type": "code",
      "metadata": {
        "id": "QVHQ8IyuwPH8",
        "colab_type": "code",
        "colab": {
          "base_uri": "https://localhost:8080/",
          "height": 235
        },
        "outputId": "74ec0f02-001b-4298-adc7-3d38b90555ee"
      },
      "source": [
        "df3_2.head()"
      ],
      "execution_count": 46,
      "outputs": [
        {
          "output_type": "execute_result",
          "data": {
            "text/html": [
              "<div>\n",
              "<style scoped>\n",
              "    .dataframe tbody tr th:only-of-type {\n",
              "        vertical-align: middle;\n",
              "    }\n",
              "\n",
              "    .dataframe tbody tr th {\n",
              "        vertical-align: top;\n",
              "    }\n",
              "\n",
              "    .dataframe thead th {\n",
              "        text-align: right;\n",
              "    }\n",
              "</style>\n",
              "<table border=\"1\" class=\"dataframe\">\n",
              "  <thead>\n",
              "    <tr style=\"text-align: right;\">\n",
              "      <th></th>\n",
              "      <th></th>\n",
              "      <th></th>\n",
              "      <th></th>\n",
              "      <th></th>\n",
              "      <th>Chidlren Waiting on Adoption 31 August</th>\n",
              "      <th>Total Months Since Termination</th>\n",
              "    </tr>\n",
              "    <tr>\n",
              "      <th>Fiscal Year</th>\n",
              "      <th>Region</th>\n",
              "      <th>Gender</th>\n",
              "      <th>Race/Ethnicity</th>\n",
              "      <th>Age Group</th>\n",
              "      <th></th>\n",
              "      <th></th>\n",
              "    </tr>\n",
              "  </thead>\n",
              "  <tbody>\n",
              "    <tr>\n",
              "      <th rowspan=\"5\" valign=\"top\">2010</th>\n",
              "      <th rowspan=\"5\" valign=\"top\">1-Lubbock</th>\n",
              "      <th rowspan=\"5\" valign=\"top\">Female</th>\n",
              "      <th rowspan=\"3\" valign=\"top\">African American</th>\n",
              "      <th>Birth to Five Years Old</th>\n",
              "      <td>19</td>\n",
              "      <td>191</td>\n",
              "    </tr>\n",
              "    <tr>\n",
              "      <th>Six to Twelve Years Old</th>\n",
              "      <td>13</td>\n",
              "      <td>496</td>\n",
              "    </tr>\n",
              "    <tr>\n",
              "      <th>Thirteen to Seventeen Years Old</th>\n",
              "      <td>7</td>\n",
              "      <td>345</td>\n",
              "    </tr>\n",
              "    <tr>\n",
              "      <th rowspan=\"2\" valign=\"top\">Anglo</th>\n",
              "      <th>Birth to Five Years Old</th>\n",
              "      <td>25</td>\n",
              "      <td>162</td>\n",
              "    </tr>\n",
              "    <tr>\n",
              "      <th>Six to Twelve Years Old</th>\n",
              "      <td>20</td>\n",
              "      <td>454</td>\n",
              "    </tr>\n",
              "  </tbody>\n",
              "</table>\n",
              "</div>"
            ],
            "text/plain": [
              "                                                                               Chidlren Waiting on Adoption 31 August  Total Months Since Termination\n",
              "Fiscal Year Region    Gender Race/Ethnicity   Age Group                                                                                              \n",
              "2010        1-Lubbock Female African American Birth to Five Years Old                                              19                             191\n",
              "                                              Six to Twelve Years Old                                              13                             496\n",
              "                                              Thirteen to Seventeen Years Old                                       7                             345\n",
              "                             Anglo            Birth to Five Years Old                                              25                             162\n",
              "                                              Six to Twelve Years Old                                              20                             454"
            ]
          },
          "metadata": {
            "tags": []
          },
          "execution_count": 46
        }
      ]
    },
    {
      "cell_type": "code",
      "metadata": {
        "id": "MXIdJHZOwLLx",
        "colab_type": "code",
        "colab": {}
      },
      "source": [
        "df3_2['Average Months Since Termination of Parental Rights_2'] = df3_2['Total Months Since Termination']/df3_2['Chidlren Waiting on Adoption 31 August']"
      ],
      "execution_count": 51,
      "outputs": []
    },
    {
      "cell_type": "code",
      "metadata": {
        "id": "P18zB_GDwevz",
        "colab_type": "code",
        "colab": {
          "base_uri": "https://localhost:8080/",
          "height": 286
        },
        "outputId": "aeb011a0-fade-4e1d-f6ff-67c0a0376af9"
      },
      "source": [
        "df3_2.head()"
      ],
      "execution_count": 52,
      "outputs": [
        {
          "output_type": "execute_result",
          "data": {
            "text/html": [
              "<div>\n",
              "<style scoped>\n",
              "    .dataframe tbody tr th:only-of-type {\n",
              "        vertical-align: middle;\n",
              "    }\n",
              "\n",
              "    .dataframe tbody tr th {\n",
              "        vertical-align: top;\n",
              "    }\n",
              "\n",
              "    .dataframe thead th {\n",
              "        text-align: right;\n",
              "    }\n",
              "</style>\n",
              "<table border=\"1\" class=\"dataframe\">\n",
              "  <thead>\n",
              "    <tr style=\"text-align: right;\">\n",
              "      <th></th>\n",
              "      <th></th>\n",
              "      <th></th>\n",
              "      <th></th>\n",
              "      <th></th>\n",
              "      <th>Chidlren Waiting on Adoption 31 August</th>\n",
              "      <th>Total Months Since Termination</th>\n",
              "      <th>Average Months Since Termination of Parental Rights_2</th>\n",
              "    </tr>\n",
              "    <tr>\n",
              "      <th>Fiscal Year</th>\n",
              "      <th>Region</th>\n",
              "      <th>Gender</th>\n",
              "      <th>Race/Ethnicity</th>\n",
              "      <th>Age Group</th>\n",
              "      <th></th>\n",
              "      <th></th>\n",
              "      <th></th>\n",
              "    </tr>\n",
              "  </thead>\n",
              "  <tbody>\n",
              "    <tr>\n",
              "      <th rowspan=\"5\" valign=\"top\">2010</th>\n",
              "      <th rowspan=\"5\" valign=\"top\">1-Lubbock</th>\n",
              "      <th rowspan=\"5\" valign=\"top\">Female</th>\n",
              "      <th rowspan=\"3\" valign=\"top\">African American</th>\n",
              "      <th>Birth to Five Years Old</th>\n",
              "      <td>19</td>\n",
              "      <td>191</td>\n",
              "      <td>10.052632</td>\n",
              "    </tr>\n",
              "    <tr>\n",
              "      <th>Six to Twelve Years Old</th>\n",
              "      <td>13</td>\n",
              "      <td>496</td>\n",
              "      <td>38.153846</td>\n",
              "    </tr>\n",
              "    <tr>\n",
              "      <th>Thirteen to Seventeen Years Old</th>\n",
              "      <td>7</td>\n",
              "      <td>345</td>\n",
              "      <td>49.285714</td>\n",
              "    </tr>\n",
              "    <tr>\n",
              "      <th rowspan=\"2\" valign=\"top\">Anglo</th>\n",
              "      <th>Birth to Five Years Old</th>\n",
              "      <td>25</td>\n",
              "      <td>162</td>\n",
              "      <td>6.480000</td>\n",
              "    </tr>\n",
              "    <tr>\n",
              "      <th>Six to Twelve Years Old</th>\n",
              "      <td>20</td>\n",
              "      <td>454</td>\n",
              "      <td>22.700000</td>\n",
              "    </tr>\n",
              "  </tbody>\n",
              "</table>\n",
              "</div>"
            ],
            "text/plain": [
              "                                                                               Chidlren Waiting on Adoption 31 August  ...  Average Months Since Termination of Parental Rights_2\n",
              "Fiscal Year Region    Gender Race/Ethnicity   Age Group                                                                ...                                                       \n",
              "2010        1-Lubbock Female African American Birth to Five Years Old                                              19  ...                                          10.052632    \n",
              "                                              Six to Twelve Years Old                                              13  ...                                          38.153846    \n",
              "                                              Thirteen to Seventeen Years Old                                       7  ...                                          49.285714    \n",
              "                             Anglo            Birth to Five Years Old                                              25  ...                                           6.480000    \n",
              "                                              Six to Twelve Years Old                                              20  ...                                          22.700000    \n",
              "\n",
              "[5 rows x 3 columns]"
            ]
          },
          "metadata": {
            "tags": []
          },
          "execution_count": 52
        }
      ]
    },
    {
      "cell_type": "code",
      "metadata": {
        "id": "CubAe6ZEqk0r",
        "colab_type": "code",
        "colab": {}
      },
      "source": [
        "final_df6 = pd.merge(df3_2, final_df5, on = ['Fiscal Year','Region','Gender','Race/Ethnicity','Age Group'])"
      ],
      "execution_count": 53,
      "outputs": []
    },
    {
      "cell_type": "code",
      "metadata": {
        "id": "8q2DfR0pqnOL",
        "colab_type": "code",
        "colab": {
          "base_uri": "https://localhost:8080/",
          "height": 388
        },
        "outputId": "07fa2135-b23b-415d-fa50-2b2abad5ae78"
      },
      "source": [
        "## WHY ISN'T THIS WORKING\n",
        "\n",
        "final_df6.head()"
      ],
      "execution_count": 54,
      "outputs": [
        {
          "output_type": "execute_result",
          "data": {
            "text/html": [
              "<div>\n",
              "<style scoped>\n",
              "    .dataframe tbody tr th:only-of-type {\n",
              "        vertical-align: middle;\n",
              "    }\n",
              "\n",
              "    .dataframe tbody tr th {\n",
              "        vertical-align: top;\n",
              "    }\n",
              "\n",
              "    .dataframe thead th {\n",
              "        text-align: right;\n",
              "    }\n",
              "</style>\n",
              "<table border=\"1\" class=\"dataframe\">\n",
              "  <thead>\n",
              "    <tr style=\"text-align: right;\">\n",
              "      <th></th>\n",
              "      <th></th>\n",
              "      <th></th>\n",
              "      <th></th>\n",
              "      <th></th>\n",
              "      <th>Chidlren Waiting on Adoption 31 August</th>\n",
              "      <th>Total Months Since Termination</th>\n",
              "      <th>Average Months Since Termination of Parental Rights_2</th>\n",
              "      <th>Removals</th>\n",
              "      <th>Victims</th>\n",
              "      <th>Foster Care</th>\n",
              "      <th>Other Substitute Care</th>\n",
              "      <th>Non-Relative</th>\n",
              "      <th>Relative</th>\n",
              "    </tr>\n",
              "    <tr>\n",
              "      <th>Fiscal Year</th>\n",
              "      <th>Region</th>\n",
              "      <th>Gender</th>\n",
              "      <th>Race/Ethnicity</th>\n",
              "      <th>Age Group</th>\n",
              "      <th></th>\n",
              "      <th></th>\n",
              "      <th></th>\n",
              "      <th></th>\n",
              "      <th></th>\n",
              "      <th></th>\n",
              "      <th></th>\n",
              "      <th></th>\n",
              "      <th></th>\n",
              "    </tr>\n",
              "  </thead>\n",
              "  <tbody>\n",
              "    <tr>\n",
              "      <th rowspan=\"5\" valign=\"top\">2010</th>\n",
              "      <th rowspan=\"5\" valign=\"top\">1-Lubbock</th>\n",
              "      <th rowspan=\"5\" valign=\"top\">Female</th>\n",
              "      <th rowspan=\"3\" valign=\"top\">African American</th>\n",
              "      <th>Birth to Five Years Old</th>\n",
              "      <td>19</td>\n",
              "      <td>191</td>\n",
              "      <td>10.052632</td>\n",
              "      <td>10.0</td>\n",
              "      <td>10.0</td>\n",
              "      <td>24.0</td>\n",
              "      <td>15.0</td>\n",
              "      <td>25.0</td>\n",
              "      <td>14.0</td>\n",
              "    </tr>\n",
              "    <tr>\n",
              "      <th>Six to Twelve Years Old</th>\n",
              "      <td>13</td>\n",
              "      <td>496</td>\n",
              "      <td>38.153846</td>\n",
              "      <td>12.0</td>\n",
              "      <td>14.0</td>\n",
              "      <td>24.0</td>\n",
              "      <td>8.0</td>\n",
              "      <td>26.0</td>\n",
              "      <td>6.0</td>\n",
              "    </tr>\n",
              "    <tr>\n",
              "      <th>Thirteen to Seventeen Years Old</th>\n",
              "      <td>7</td>\n",
              "      <td>345</td>\n",
              "      <td>49.285714</td>\n",
              "      <td>6.0</td>\n",
              "      <td>10.0</td>\n",
              "      <td>32.0</td>\n",
              "      <td>3.0</td>\n",
              "      <td>34.0</td>\n",
              "      <td>1.0</td>\n",
              "    </tr>\n",
              "    <tr>\n",
              "      <th rowspan=\"2\" valign=\"top\">Anglo</th>\n",
              "      <th>Birth to Five Years Old</th>\n",
              "      <td>25</td>\n",
              "      <td>162</td>\n",
              "      <td>6.480000</td>\n",
              "      <td>10.0</td>\n",
              "      <td>10.0</td>\n",
              "      <td>40.0</td>\n",
              "      <td>18.0</td>\n",
              "      <td>40.0</td>\n",
              "      <td>18.0</td>\n",
              "    </tr>\n",
              "    <tr>\n",
              "      <th>Six to Twelve Years Old</th>\n",
              "      <td>20</td>\n",
              "      <td>454</td>\n",
              "      <td>22.700000</td>\n",
              "      <td>14.0</td>\n",
              "      <td>14.0</td>\n",
              "      <td>46.0</td>\n",
              "      <td>17.0</td>\n",
              "      <td>45.0</td>\n",
              "      <td>18.0</td>\n",
              "    </tr>\n",
              "  </tbody>\n",
              "</table>\n",
              "</div>"
            ],
            "text/plain": [
              "                                                                               Chidlren Waiting on Adoption 31 August  ...  Relative\n",
              "Fiscal Year Region    Gender Race/Ethnicity   Age Group                                                                ...          \n",
              "2010        1-Lubbock Female African American Birth to Five Years Old                                              19  ...      14.0\n",
              "                                              Six to Twelve Years Old                                              13  ...       6.0\n",
              "                                              Thirteen to Seventeen Years Old                                       7  ...       1.0\n",
              "                             Anglo            Birth to Five Years Old                                              25  ...      18.0\n",
              "                                              Six to Twelve Years Old                                              20  ...      18.0\n",
              "\n",
              "[5 rows x 9 columns]"
            ]
          },
          "metadata": {
            "tags": []
          },
          "execution_count": 54
        }
      ]
    },
    {
      "cell_type": "code",
      "metadata": {
        "id": "3akYGhwExDt6",
        "colab_type": "code",
        "colab": {
          "base_uri": "https://localhost:8080/",
          "height": 204
        },
        "outputId": "dc6be9df-77ca-4033-d6a3-945135f75146"
      },
      "source": [
        "df4.head()"
      ],
      "execution_count": null,
      "outputs": [
        {
          "output_type": "execute_result",
          "data": {
            "text/html": [
              "<div>\n",
              "<style scoped>\n",
              "    .dataframe tbody tr th:only-of-type {\n",
              "        vertical-align: middle;\n",
              "    }\n",
              "\n",
              "    .dataframe tbody tr th {\n",
              "        vertical-align: top;\n",
              "    }\n",
              "\n",
              "    .dataframe thead th {\n",
              "        text-align: right;\n",
              "    }\n",
              "</style>\n",
              "<table border=\"1\" class=\"dataframe\">\n",
              "  <thead>\n",
              "    <tr style=\"text-align: right;\">\n",
              "      <th></th>\n",
              "      <th>Fiscal Year</th>\n",
              "      <th>Region</th>\n",
              "      <th>Gender</th>\n",
              "      <th>Race/Ethnicity</th>\n",
              "      <th>Age Group</th>\n",
              "      <th>Children in Adoption Placements</th>\n",
              "    </tr>\n",
              "  </thead>\n",
              "  <tbody>\n",
              "    <tr>\n",
              "      <th>0</th>\n",
              "      <td>2019</td>\n",
              "      <td>1-Lubbock</td>\n",
              "      <td>Female</td>\n",
              "      <td>African American</td>\n",
              "      <td>Birth to Five Years Old</td>\n",
              "      <td>13</td>\n",
              "    </tr>\n",
              "    <tr>\n",
              "      <th>1</th>\n",
              "      <td>2019</td>\n",
              "      <td>1-Lubbock</td>\n",
              "      <td>Female</td>\n",
              "      <td>African American</td>\n",
              "      <td>Six to Twelve Years Old</td>\n",
              "      <td>5</td>\n",
              "    </tr>\n",
              "    <tr>\n",
              "      <th>2</th>\n",
              "      <td>2019</td>\n",
              "      <td>1-Lubbock</td>\n",
              "      <td>Female</td>\n",
              "      <td>African American</td>\n",
              "      <td>Thirteen to Seventeen Years Old</td>\n",
              "      <td>4</td>\n",
              "    </tr>\n",
              "    <tr>\n",
              "      <th>3</th>\n",
              "      <td>2019</td>\n",
              "      <td>1-Lubbock</td>\n",
              "      <td>Female</td>\n",
              "      <td>Anglo</td>\n",
              "      <td>Birth to Five Years Old</td>\n",
              "      <td>25</td>\n",
              "    </tr>\n",
              "    <tr>\n",
              "      <th>4</th>\n",
              "      <td>2019</td>\n",
              "      <td>1-Lubbock</td>\n",
              "      <td>Female</td>\n",
              "      <td>Anglo</td>\n",
              "      <td>Six to Twelve Years Old</td>\n",
              "      <td>15</td>\n",
              "    </tr>\n",
              "  </tbody>\n",
              "</table>\n",
              "</div>"
            ],
            "text/plain": [
              "   Fiscal Year  ... Children in Adoption Placements\n",
              "0         2019  ...                              13\n",
              "1         2019  ...                               5\n",
              "2         2019  ...                               4\n",
              "3         2019  ...                              25\n",
              "4         2019  ...                              15\n",
              "\n",
              "[5 rows x 6 columns]"
            ]
          },
          "metadata": {
            "tags": []
          },
          "execution_count": 268
        }
      ]
    },
    {
      "cell_type": "code",
      "metadata": {
        "id": "XixMMhF72Nvl",
        "colab_type": "code",
        "colab": {}
      },
      "source": [
        "final_df7 = pd.merge(df4, final_df6, on = ['Fiscal Year','Region','Gender','Race/Ethnicity','Age Group'])"
      ],
      "execution_count": 56,
      "outputs": []
    },
    {
      "cell_type": "code",
      "metadata": {
        "id": "5Fy2cBY8A5DZ",
        "colab_type": "code",
        "colab": {
          "base_uri": "https://localhost:8080/",
          "height": 391
        },
        "outputId": "e2a4aea2-541a-4668-a74f-dd07f0207179"
      },
      "source": [
        "final_df7.head()"
      ],
      "execution_count": 57,
      "outputs": [
        {
          "output_type": "execute_result",
          "data": {
            "text/html": [
              "<div>\n",
              "<style scoped>\n",
              "    .dataframe tbody tr th:only-of-type {\n",
              "        vertical-align: middle;\n",
              "    }\n",
              "\n",
              "    .dataframe tbody tr th {\n",
              "        vertical-align: top;\n",
              "    }\n",
              "\n",
              "    .dataframe thead th {\n",
              "        text-align: right;\n",
              "    }\n",
              "</style>\n",
              "<table border=\"1\" class=\"dataframe\">\n",
              "  <thead>\n",
              "    <tr style=\"text-align: right;\">\n",
              "      <th></th>\n",
              "      <th>Fiscal Year</th>\n",
              "      <th>Region</th>\n",
              "      <th>Gender</th>\n",
              "      <th>Race/Ethnicity</th>\n",
              "      <th>Age Group</th>\n",
              "      <th>Children in Adoption Placements</th>\n",
              "      <th>Chidlren Waiting on Adoption 31 August</th>\n",
              "      <th>Total Months Since Termination</th>\n",
              "      <th>Average Months Since Termination of Parental Rights_2</th>\n",
              "      <th>Removals</th>\n",
              "      <th>Victims</th>\n",
              "      <th>Foster Care</th>\n",
              "      <th>Other Substitute Care</th>\n",
              "      <th>Non-Relative</th>\n",
              "      <th>Relative</th>\n",
              "    </tr>\n",
              "  </thead>\n",
              "  <tbody>\n",
              "    <tr>\n",
              "      <th>0</th>\n",
              "      <td>2019</td>\n",
              "      <td>1-Lubbock</td>\n",
              "      <td>Female</td>\n",
              "      <td>African American</td>\n",
              "      <td>Birth to Five Years Old</td>\n",
              "      <td>13</td>\n",
              "      <td>13</td>\n",
              "      <td>106</td>\n",
              "      <td>8.153846</td>\n",
              "      <td>10.0</td>\n",
              "      <td>10.0</td>\n",
              "      <td>14.0</td>\n",
              "      <td>10.0</td>\n",
              "      <td>15.0</td>\n",
              "      <td>9.0</td>\n",
              "    </tr>\n",
              "    <tr>\n",
              "      <th>1</th>\n",
              "      <td>2019</td>\n",
              "      <td>1-Lubbock</td>\n",
              "      <td>Female</td>\n",
              "      <td>African American</td>\n",
              "      <td>Six to Twelve Years Old</td>\n",
              "      <td>5</td>\n",
              "      <td>6</td>\n",
              "      <td>261</td>\n",
              "      <td>43.500000</td>\n",
              "      <td>14.0</td>\n",
              "      <td>14.0</td>\n",
              "      <td>20.0</td>\n",
              "      <td>5.0</td>\n",
              "      <td>20.0</td>\n",
              "      <td>5.0</td>\n",
              "    </tr>\n",
              "    <tr>\n",
              "      <th>2</th>\n",
              "      <td>2019</td>\n",
              "      <td>1-Lubbock</td>\n",
              "      <td>Female</td>\n",
              "      <td>African American</td>\n",
              "      <td>Thirteen to Seventeen Years Old</td>\n",
              "      <td>4</td>\n",
              "      <td>12</td>\n",
              "      <td>468</td>\n",
              "      <td>39.000000</td>\n",
              "      <td>8.0</td>\n",
              "      <td>10.0</td>\n",
              "      <td>15.0</td>\n",
              "      <td>9.0</td>\n",
              "      <td>18.0</td>\n",
              "      <td>6.0</td>\n",
              "    </tr>\n",
              "    <tr>\n",
              "      <th>3</th>\n",
              "      <td>2019</td>\n",
              "      <td>1-Lubbock</td>\n",
              "      <td>Female</td>\n",
              "      <td>Anglo</td>\n",
              "      <td>Birth to Five Years Old</td>\n",
              "      <td>25</td>\n",
              "      <td>17</td>\n",
              "      <td>69</td>\n",
              "      <td>4.058824</td>\n",
              "      <td>10.0</td>\n",
              "      <td>10.0</td>\n",
              "      <td>36.0</td>\n",
              "      <td>26.0</td>\n",
              "      <td>35.0</td>\n",
              "      <td>27.0</td>\n",
              "    </tr>\n",
              "    <tr>\n",
              "      <th>4</th>\n",
              "      <td>2019</td>\n",
              "      <td>1-Lubbock</td>\n",
              "      <td>Female</td>\n",
              "      <td>Anglo</td>\n",
              "      <td>Six to Twelve Years Old</td>\n",
              "      <td>15</td>\n",
              "      <td>24</td>\n",
              "      <td>244</td>\n",
              "      <td>10.166667</td>\n",
              "      <td>14.0</td>\n",
              "      <td>14.0</td>\n",
              "      <td>40.0</td>\n",
              "      <td>25.0</td>\n",
              "      <td>40.0</td>\n",
              "      <td>25.0</td>\n",
              "    </tr>\n",
              "  </tbody>\n",
              "</table>\n",
              "</div>"
            ],
            "text/plain": [
              "   Fiscal Year     Region  ... Non-Relative Relative\n",
              "0         2019  1-Lubbock  ...         15.0      9.0\n",
              "1         2019  1-Lubbock  ...         20.0      5.0\n",
              "2         2019  1-Lubbock  ...         18.0      6.0\n",
              "3         2019  1-Lubbock  ...         35.0     27.0\n",
              "4         2019  1-Lubbock  ...         40.0     25.0\n",
              "\n",
              "[5 rows x 15 columns]"
            ]
          },
          "metadata": {
            "tags": []
          },
          "execution_count": 57
        }
      ]
    },
    {
      "cell_type": "code",
      "metadata": {
        "id": "uYrashXf33w2",
        "colab_type": "code",
        "colab": {
          "base_uri": "https://localhost:8080/",
          "height": 204
        },
        "outputId": "d8e40ee5-b499-4475-8076-013c8ca730a8"
      },
      "source": [
        "df5.head()"
      ],
      "execution_count": 66,
      "outputs": [
        {
          "output_type": "execute_result",
          "data": {
            "text/html": [
              "<div>\n",
              "<style scoped>\n",
              "    .dataframe tbody tr th:only-of-type {\n",
              "        vertical-align: middle;\n",
              "    }\n",
              "\n",
              "    .dataframe tbody tr th {\n",
              "        vertical-align: top;\n",
              "    }\n",
              "\n",
              "    .dataframe thead th {\n",
              "        text-align: right;\n",
              "    }\n",
              "</style>\n",
              "<table border=\"1\" class=\"dataframe\">\n",
              "  <thead>\n",
              "    <tr style=\"text-align: right;\">\n",
              "      <th></th>\n",
              "      <th>Fiscal Year</th>\n",
              "      <th>Region</th>\n",
              "      <th>Gender</th>\n",
              "      <th>Race/Ethnicity</th>\n",
              "      <th>Age Group</th>\n",
              "      <th>Disabling Condition</th>\n",
              "      <th>Children in Adoption Placements</th>\n",
              "    </tr>\n",
              "  </thead>\n",
              "  <tbody>\n",
              "    <tr>\n",
              "      <th>0</th>\n",
              "      <td>2019</td>\n",
              "      <td>1-Lubbock</td>\n",
              "      <td>Female</td>\n",
              "      <td>African American</td>\n",
              "      <td>Birth to Five Years Old</td>\n",
              "      <td>Drug or Alcohol</td>\n",
              "      <td>6</td>\n",
              "    </tr>\n",
              "    <tr>\n",
              "      <th>1</th>\n",
              "      <td>2019</td>\n",
              "      <td>1-Lubbock</td>\n",
              "      <td>Female</td>\n",
              "      <td>Anglo</td>\n",
              "      <td>Birth to Five Years Old</td>\n",
              "      <td>Drug or Alcohol</td>\n",
              "      <td>4</td>\n",
              "    </tr>\n",
              "    <tr>\n",
              "      <th>2</th>\n",
              "      <td>2019</td>\n",
              "      <td>1-Lubbock</td>\n",
              "      <td>Female</td>\n",
              "      <td>Anglo</td>\n",
              "      <td>Six to Twelve Years Old</td>\n",
              "      <td>Drug or Alcohol</td>\n",
              "      <td>1</td>\n",
              "    </tr>\n",
              "    <tr>\n",
              "      <th>3</th>\n",
              "      <td>2019</td>\n",
              "      <td>1-Lubbock</td>\n",
              "      <td>Female</td>\n",
              "      <td>Hispanic</td>\n",
              "      <td>Birth to Five Years Old</td>\n",
              "      <td>Drug or Alcohol</td>\n",
              "      <td>6</td>\n",
              "    </tr>\n",
              "    <tr>\n",
              "      <th>4</th>\n",
              "      <td>2019</td>\n",
              "      <td>1-Lubbock</td>\n",
              "      <td>Male</td>\n",
              "      <td>Anglo</td>\n",
              "      <td>Birth to Five Years Old</td>\n",
              "      <td>Drug or Alcohol</td>\n",
              "      <td>9</td>\n",
              "    </tr>\n",
              "  </tbody>\n",
              "</table>\n",
              "</div>"
            ],
            "text/plain": [
              "   Fiscal Year     Region  ... Disabling Condition Children in Adoption Placements\n",
              "0         2019  1-Lubbock  ...     Drug or Alcohol                               6\n",
              "1         2019  1-Lubbock  ...     Drug or Alcohol                               4\n",
              "2         2019  1-Lubbock  ...     Drug or Alcohol                               1\n",
              "3         2019  1-Lubbock  ...     Drug or Alcohol                               6\n",
              "4         2019  1-Lubbock  ...     Drug or Alcohol                               9\n",
              "\n",
              "[5 rows x 7 columns]"
            ]
          },
          "metadata": {
            "tags": []
          },
          "execution_count": 66
        }
      ]
    },
    {
      "cell_type": "code",
      "metadata": {
        "id": "igY_sYZFCIOr",
        "colab_type": "code",
        "colab": {
          "base_uri": "https://localhost:8080/",
          "height": 103
        },
        "outputId": "b0da85ab-a367-4693-ba1e-118e1697d5c6"
      },
      "source": [
        "df5.loc[(df5['Fiscal Year']=='2019') & (df5['Region']=='1-Lubbock') & (df5['Gender'] == 'Female') & (df5['Race/Ethnicity'] == 'African American') & (df5['Age Group'] == 'Birth to Five Years Old')]"
      ],
      "execution_count": 72,
      "outputs": [
        {
          "output_type": "stream",
          "text": [
            "/usr/local/lib/python3.6/dist-packages/pandas/core/ops/array_ops.py:253: FutureWarning: elementwise comparison failed; returning scalar instead, but in the future will perform elementwise comparison\n",
            "  res_values = method(rvalues)\n"
          ],
          "name": "stderr"
        },
        {
          "output_type": "execute_result",
          "data": {
            "text/html": [
              "<div>\n",
              "<style scoped>\n",
              "    .dataframe tbody tr th:only-of-type {\n",
              "        vertical-align: middle;\n",
              "    }\n",
              "\n",
              "    .dataframe tbody tr th {\n",
              "        vertical-align: top;\n",
              "    }\n",
              "\n",
              "    .dataframe thead th {\n",
              "        text-align: right;\n",
              "    }\n",
              "</style>\n",
              "<table border=\"1\" class=\"dataframe\">\n",
              "  <thead>\n",
              "    <tr style=\"text-align: right;\">\n",
              "      <th></th>\n",
              "      <th>Fiscal Year</th>\n",
              "      <th>Region</th>\n",
              "      <th>Gender</th>\n",
              "      <th>Race/Ethnicity</th>\n",
              "      <th>Age Group</th>\n",
              "      <th>Disabling Condition</th>\n",
              "      <th>Children in Adoption Placements</th>\n",
              "    </tr>\n",
              "  </thead>\n",
              "  <tbody>\n",
              "  </tbody>\n",
              "</table>\n",
              "</div>"
            ],
            "text/plain": [
              "Empty DataFrame\n",
              "Columns: [Fiscal Year, Region, Gender, Race/Ethnicity, Age Group, Disabling Condition, Children in Adoption Placements]\n",
              "Index: []"
            ]
          },
          "metadata": {
            "tags": []
          },
          "execution_count": 72
        }
      ]
    },
    {
      "cell_type": "code",
      "metadata": {
        "id": "B7_u8mVC4dFj",
        "colab_type": "code",
        "colab": {
          "base_uri": "https://localhost:8080/",
          "height": 255
        },
        "outputId": "4538788d-b9f6-4126-a34a-9fbb36aeff60"
      },
      "source": [
        "df5.info()"
      ],
      "execution_count": 59,
      "outputs": [
        {
          "output_type": "stream",
          "text": [
            "<class 'pandas.core.frame.DataFrame'>\n",
            "RangeIndex: 5896 entries, 0 to 5895\n",
            "Data columns (total 7 columns):\n",
            " #   Column                           Non-Null Count  Dtype \n",
            "---  ------                           --------------  ----- \n",
            " 0   Fiscal Year                      5896 non-null   int64 \n",
            " 1   Region                           5896 non-null   object\n",
            " 2   Gender                           5896 non-null   object\n",
            " 3   Race/Ethnicity                   5896 non-null   object\n",
            " 4   Age Group                        5848 non-null   object\n",
            " 5   Disabling Condition              5896 non-null   object\n",
            " 6   Children in Adoption Placements  5896 non-null   int64 \n",
            "dtypes: int64(2), object(5)\n",
            "memory usage: 322.6+ KB\n"
          ],
          "name": "stdout"
        }
      ]
    },
    {
      "cell_type": "code",
      "metadata": {
        "id": "W_8VGI0q36fs",
        "colab_type": "code",
        "colab": {}
      },
      "source": [
        "df5_2 = df5.groupby(['Fiscal Year', 'Region', 'Gender', 'Race/Ethnicity', 'Age Group','Disabling Condition']).count()['Children in Adoption Placements']"
      ],
      "execution_count": 64,
      "outputs": []
    },
    {
      "cell_type": "code",
      "metadata": {
        "id": "IpIRJP-x4Su3",
        "colab_type": "code",
        "colab": {
          "base_uri": "https://localhost:8080/",
          "height": 136
        },
        "outputId": "0688fc29-2ad5-43c1-c7a9-375799d3858b"
      },
      "source": [
        "df5_2.head()"
      ],
      "execution_count": 65,
      "outputs": [
        {
          "output_type": "execute_result",
          "data": {
            "text/plain": [
              "Fiscal Year  Region     Gender  Race/Ethnicity    Age Group                        Disabling Condition  \n",
              "2010         1-Lubbock  Female  African American  Birth to Five Years Old          Drug or Alcohol          1\n",
              "                                                                                   Learning Disability      1\n",
              "                                                  Six to Twelve Years Old          Emotionally Disturbed    1\n",
              "                                                                                   Learning Disability      1\n",
              "                                                  Thirteen to Seventeen Years Old  Emotionally Disturbed    1\n",
              "Name: Children in Adoption Placements, dtype: int64"
            ]
          },
          "metadata": {
            "tags": []
          },
          "execution_count": 65
        }
      ]
    },
    {
      "cell_type": "code",
      "metadata": {
        "id": "z8aB_Zw74prk",
        "colab_type": "code",
        "colab": {
          "base_uri": "https://localhost:8080/",
          "height": 306
        },
        "outputId": "9dfc6f43-0281-428f-a76a-009391666e5b"
      },
      "source": [
        "df6.head()"
      ],
      "execution_count": null,
      "outputs": [
        {
          "output_type": "execute_result",
          "data": {
            "text/html": [
              "<div>\n",
              "<style scoped>\n",
              "    .dataframe tbody tr th:only-of-type {\n",
              "        vertical-align: middle;\n",
              "    }\n",
              "\n",
              "    .dataframe tbody tr th {\n",
              "        vertical-align: top;\n",
              "    }\n",
              "\n",
              "    .dataframe thead th {\n",
              "        text-align: right;\n",
              "    }\n",
              "</style>\n",
              "<table border=\"1\" class=\"dataframe\">\n",
              "  <thead>\n",
              "    <tr style=\"text-align: right;\">\n",
              "      <th></th>\n",
              "      <th>Fiscal Year</th>\n",
              "      <th>Region</th>\n",
              "      <th>Gender</th>\n",
              "      <th>Race/Ethnicity</th>\n",
              "      <th>Same Race/Ethnicity as Adoptive Parent</th>\n",
              "      <th>Age Group</th>\n",
              "      <th>Consummated Adoptions</th>\n",
              "    </tr>\n",
              "  </thead>\n",
              "  <tbody>\n",
              "    <tr>\n",
              "      <th>0</th>\n",
              "      <td>2019</td>\n",
              "      <td>1-Lubbock</td>\n",
              "      <td>Female</td>\n",
              "      <td>African American</td>\n",
              "      <td>Yes</td>\n",
              "      <td>Birth to Five Years Old</td>\n",
              "      <td>2</td>\n",
              "    </tr>\n",
              "    <tr>\n",
              "      <th>1</th>\n",
              "      <td>2019</td>\n",
              "      <td>1-Lubbock</td>\n",
              "      <td>Female</td>\n",
              "      <td>African American</td>\n",
              "      <td>Yes</td>\n",
              "      <td>Six to Twelve Years Old</td>\n",
              "      <td>1</td>\n",
              "    </tr>\n",
              "    <tr>\n",
              "      <th>2</th>\n",
              "      <td>2019</td>\n",
              "      <td>1-Lubbock</td>\n",
              "      <td>Female</td>\n",
              "      <td>African American</td>\n",
              "      <td>No</td>\n",
              "      <td>Birth to Five Years Old</td>\n",
              "      <td>10</td>\n",
              "    </tr>\n",
              "    <tr>\n",
              "      <th>3</th>\n",
              "      <td>2019</td>\n",
              "      <td>1-Lubbock</td>\n",
              "      <td>Female</td>\n",
              "      <td>African American</td>\n",
              "      <td>No</td>\n",
              "      <td>Six to Twelve Years Old</td>\n",
              "      <td>3</td>\n",
              "    </tr>\n",
              "    <tr>\n",
              "      <th>4</th>\n",
              "      <td>2019</td>\n",
              "      <td>1-Lubbock</td>\n",
              "      <td>Female</td>\n",
              "      <td>African American</td>\n",
              "      <td>No</td>\n",
              "      <td>Thirteen to Eighteen Years Old</td>\n",
              "      <td>3</td>\n",
              "    </tr>\n",
              "  </tbody>\n",
              "</table>\n",
              "</div>"
            ],
            "text/plain": [
              "   Fiscal Year  ... Consummated Adoptions\n",
              "0         2019  ...                     2\n",
              "1         2019  ...                     1\n",
              "2         2019  ...                    10\n",
              "3         2019  ...                     3\n",
              "4         2019  ...                     3\n",
              "\n",
              "[5 rows x 7 columns]"
            ]
          },
          "metadata": {
            "tags": []
          },
          "execution_count": 285
        }
      ]
    },
    {
      "cell_type": "code",
      "metadata": {
        "id": "V60juYH_5JH0",
        "colab_type": "code",
        "colab": {}
      },
      "source": [
        ""
      ],
      "execution_count": null,
      "outputs": []
    }
  ]
}